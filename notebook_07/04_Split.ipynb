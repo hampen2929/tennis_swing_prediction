{
 "cells": [
  {
   "cell_type": "markdown",
   "metadata": {},
   "source": [
    "# import"
   ]
  },
  {
   "cell_type": "code",
   "execution_count": 11,
   "metadata": {},
   "outputs": [],
   "source": [
    "import os\n",
    "\n",
    "import pandas as pd\n",
    "import numpy as np\n",
    "import matplotlib.pyplot as plt\n",
    "from sklearn.model_selection import train_test_split\n",
    "import lightgbm as lgb\n",
    "#import xgboost as xgb\n",
    "import pickle"
   ]
  },
  {
   "cell_type": "markdown",
   "metadata": {},
   "source": [
    "import matplotlib as mpl"
   ]
  },
  {
   "cell_type": "markdown",
   "metadata": {},
   "source": [
    " # path"
   ]
  },
  {
   "cell_type": "code",
   "execution_count": 12,
   "metadata": {},
   "outputs": [
    {
     "data": {
      "text/plain": [
       "'07'"
      ]
     },
     "execution_count": 12,
     "metadata": {},
     "output_type": "execute_result"
    }
   ],
   "source": [
    "notebook_name = os.path.basename(os.getcwd())\n",
    "timestamp = notebook_name.split('_')[1]\n",
    "timestamp"
   ]
  },
  {
   "cell_type": "code",
   "execution_count": 13,
   "metadata": {},
   "outputs": [],
   "source": [
    "path_movie_dir = '../data/movie/fps30_mask/'\n",
    "path_save_dir = os.path.join('../data/04_Split/', timestamp)\n",
    "if not os.path.exists(path_save_dir):\n",
    "    os.makedirs(path_save_dir)"
   ]
  },
  {
   "cell_type": "code",
   "execution_count": 14,
   "metadata": {},
   "outputs": [],
   "source": [
    "path_action_dir = os.path.join('../data/01_DataProcessing/', timestamp)\n",
    "path_point_dir = os.path.join('../data/02_GetPoints/', timestamp)"
   ]
  },
  {
   "cell_type": "code",
   "execution_count": 15,
   "metadata": {},
   "outputs": [],
   "source": [
    "file_names = ['forehand', 'backhand', 'foreslice', 'backslice']\n",
    "# file_names = ['forehand']\n",
    "movie_names = [file_name + '.mp4' for file_name in file_names]\n",
    "points_file_names = [file_name + '.csv' for file_name in file_names]"
   ]
  },
  {
   "cell_type": "code",
   "execution_count": 16,
   "metadata": {},
   "outputs": [],
   "source": [
    "def save_file(data, path_save_dir, data_dype, file_name):\n",
    "    path_dir = os.path.join(path_save_dir, data_dype)\n",
    "    path_file = os.path.join(path_dir, file_name)\n",
    "    if not os.path.exists(path_dir):\n",
    "        os.makedirs(path_dir)\n",
    "    print(path_file)\n",
    "    data.to_csv(path_file)"
   ]
  },
  {
   "cell_type": "markdown",
   "metadata": {},
   "source": [
    "# process"
   ]
  },
  {
   "cell_type": "markdown",
   "metadata": {},
   "source": [
    "## split"
   ]
  },
  {
   "cell_type": "code",
   "execution_count": 17,
   "metadata": {},
   "outputs": [
    {
     "name": "stdout",
     "output_type": "stream",
     "text": [
      "forehand.csv\n",
      "../data/04_Split/07/train/forehand.csv\n",
      "../data/04_Split/07/test/forehand.csv\n",
      "backhand.csv\n",
      "../data/04_Split/07/train/backhand.csv\n",
      "../data/04_Split/07/test/backhand.csv\n",
      "foreslice.csv\n",
      "../data/04_Split/07/train/foreslice.csv\n",
      "../data/04_Split/07/test/foreslice.csv\n",
      "backslice.csv\n",
      "../data/04_Split/07/train/backslice.csv\n",
      "../data/04_Split/07/test/backslice.csv\n"
     ]
    }
   ],
   "source": [
    "test_size = 0.2\n",
    "for points_file_name in points_file_names:\n",
    "    print(points_file_name)\n",
    "    path_action = os.path.join(path_action_dir, points_file_name)\n",
    "    path_point = os.path.join(path_point_dir, points_file_name)\n",
    "    action_df = pd.read_csv(path_action)\n",
    "    data_df = pd.read_csv(path_point)\n",
    "    data_df.index.name = 'frame_num'\n",
    "\n",
    "    objective = 'action_gt_num'\n",
    "    data_df[objective] = action_df[objective]\n",
    "    data_df.index.name = 'frame_num'\n",
    "\n",
    "    # split\n",
    "\n",
    "    train_data_df, test_data_df =train_test_split(data_df, shuffle=False, test_size=test_size)\n",
    "\n",
    "    save_file(train_data_df, path_save_dir, data_dype='train', file_name=points_file_name)\n",
    "    save_file(test_data_df, path_save_dir, data_dype='test', file_name=points_file_name)"
   ]
  },
  {
   "cell_type": "code",
   "execution_count": 18,
   "metadata": {},
   "outputs": [],
   "source": [
    "x, y = train_test_split(data_df, shuffle=False, test_size=0.2)"
   ]
  },
  {
   "cell_type": "markdown",
   "metadata": {},
   "source": [
    "## no-split"
   ]
  },
  {
   "cell_type": "markdown",
   "metadata": {},
   "source": [
    "points_file_name = 'test.csv'\n",
    "print(points_file_name)\n",
    "path_action = os.path.join(path_action_dir, points_file_name)\n",
    "path_point = os.path.join(path_point_dir, points_file_name)\n",
    "action_df = pd.read_csv(path_action)\n",
    "data_df = pd.read_csv(path_point)\n",
    "\n",
    "objective = 'action_gt_num'\n",
    "data_df[objective] = action_df[objective]\n",
    "data_df.index.name = 'frame_num'\n",
    "\n",
    "#no-split\n",
    "\n",
    "test_data_df = data_df.copy()\n",
    "\n",
    "save_file(test_data_df, path_save_dir, data_dype='test', file_name=points_file_name)"
   ]
  },
  {
   "cell_type": "markdown",
   "metadata": {},
   "source": [
    "## swing count"
   ]
  },
  {
   "cell_type": "code",
   "execution_count": 19,
   "metadata": {},
   "outputs": [
    {
     "data": {
      "text/plain": [
       "'../data/04_Split/07'"
      ]
     },
     "execution_count": 19,
     "metadata": {},
     "output_type": "execute_result"
    }
   ],
   "source": [
    "path_save_dir"
   ]
  },
  {
   "cell_type": "code",
   "execution_count": 20,
   "metadata": {},
   "outputs": [
    {
     "data": {
      "text/plain": [
       "['forehand.csv', 'backhand.csv', 'foreslice.csv', 'backslice.csv']"
      ]
     },
     "execution_count": 20,
     "metadata": {},
     "output_type": "execute_result"
    }
   ],
   "source": [
    "points_file_names"
   ]
  },
  {
   "cell_type": "code",
   "execution_count": 23,
   "metadata": {},
   "outputs": [],
   "source": []
  },
  {
   "cell_type": "code",
   "execution_count": 24,
   "metadata": {},
   "outputs": [],
   "source": [
    "action_df = pd.read_csv(path_saved_file)\n",
    "actions = action_df[objective]"
   ]
  },
  {
   "cell_type": "code",
   "execution_count": 36,
   "metadata": {},
   "outputs": [
    {
     "name": "stdout",
     "output_type": "stream",
     "text": [
      "forehand.csv\n",
      "57\n",
      "backhand.csv\n",
      "55\n",
      "foreslice.csv\n",
      "43\n",
      "backslice.csv\n",
      "38\n"
     ]
    }
   ],
   "source": [
    "data_type = 'train'\n",
    "\n",
    "for points_file_name in points_file_names:\n",
    "    print(points_file_name)\n",
    "    path_saved_file = os.path.join(path_save_dir, data_type, points_file_name)\n",
    "    \n",
    "    action_df = pd.read_csv(path_saved_file)\n",
    "    actions = action_df[objective]\n",
    "\n",
    "    action_ranges = np.empty((0 ,3))\n",
    "    action_range = np.zeros(3)\n",
    "\n",
    "    last_action = 0\n",
    "    idle = 0\n",
    "\n",
    "    for num, action in enumerate(actions):\n",
    "        if (action != last_action) and (action != 0):\n",
    "            action_range[0] = num\n",
    "            action_range[2] = action\n",
    "        elif (action != last_action) and (action == 0):\n",
    "            action_range[1] = num\n",
    "            action_ranges = np.vstack([action_ranges, action_range])\n",
    "            action_range = np.zeros(3)\n",
    "        last_action = action\n",
    "    action_ranges = action_ranges.astype(int)\n",
    "\n",
    "    print(len(action_ranges))"
   ]
  },
  {
   "cell_type": "code",
   "execution_count": 37,
   "metadata": {},
   "outputs": [
    {
     "name": "stdout",
     "output_type": "stream",
     "text": [
      "forehand.csv\n",
      "10\n",
      "backhand.csv\n",
      "14\n",
      "foreslice.csv\n",
      "9\n",
      "backslice.csv\n",
      "14\n"
     ]
    }
   ],
   "source": [
    "data_type = 'test'\n",
    "\n",
    "for points_file_name in points_file_names:\n",
    "    print(points_file_name)\n",
    "    path_saved_file = os.path.join(path_save_dir, data_type, points_file_name)\n",
    "    \n",
    "    action_df = pd.read_csv(path_saved_file)\n",
    "    actions = action_df[objective]\n",
    "\n",
    "    action_ranges = np.empty((0 ,3))\n",
    "    action_range = np.zeros(3)\n",
    "\n",
    "    last_action = 0\n",
    "    idle = 0\n",
    "\n",
    "    for num, action in enumerate(actions):\n",
    "        if (action != last_action) and (action != 0):\n",
    "            action_range[0] = num\n",
    "            action_range[2] = action\n",
    "        elif (action != last_action) and (action == 0):\n",
    "            action_range[1] = num\n",
    "            action_ranges = np.vstack([action_ranges, action_range])\n",
    "            action_range = np.zeros(3)\n",
    "        last_action = action\n",
    "    action_ranges = action_ranges.astype(int)\n",
    "\n",
    "    print(len(action_ranges))"
   ]
  },
  {
   "cell_type": "code",
   "execution_count": null,
   "metadata": {},
   "outputs": [],
   "source": []
  }
 ],
 "metadata": {
  "kernelspec": {
   "display_name": "Environment (conda_actrec)",
   "language": "python",
   "name": "conda_actrec"
  },
  "language_info": {
   "codemirror_mode": {
    "name": "ipython",
    "version": 3
   },
   "file_extension": ".py",
   "mimetype": "text/x-python",
   "name": "python",
   "nbconvert_exporter": "python",
   "pygments_lexer": "ipython3",
   "version": "3.6.5"
  },
  "toc": {
   "base_numbering": 1,
   "nav_menu": {},
   "number_sections": true,
   "sideBar": true,
   "skip_h1_title": false,
   "title_cell": "Table of Contents",
   "title_sidebar": "Contents",
   "toc_cell": false,
   "toc_position": {},
   "toc_section_display": true,
   "toc_window_display": true
  }
 },
 "nbformat": 4,
 "nbformat_minor": 2
}
