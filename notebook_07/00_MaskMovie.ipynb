{
 "cells": [
  {
   "cell_type": "code",
   "execution_count": 1,
   "metadata": {},
   "outputs": [],
   "source": [
    "import os\n",
    "import cv2\n",
    "import numpy as np\n",
    "from pyvino.detector import DetectorHumanPose"
   ]
  },
  {
   "cell_type": "code",
   "execution_count": 2,
   "metadata": {},
   "outputs": [
    {
     "data": {
      "text/plain": [
       "'07'"
      ]
     },
     "execution_count": 2,
     "metadata": {},
     "output_type": "execute_result"
    }
   ],
   "source": [
    "notebook_name = os.path.basename(os.getcwd())\n",
    "timestamp = notebook_name.split('_')[1]\n",
    "timestamp"
   ]
  },
  {
   "cell_type": "markdown",
   "metadata": {},
   "source": [
    "path_movie = '../data/movie/fps30/backslice.mp4'\n",
    "#path_movie = '../data/movie/fps30/backslice_h264.mp4'\n",
    "\n",
    "path_save_movie = '../data/movie/fps30_mask/backslice_h264.mp4'\n",
    "#path_save_movie = '../data/movie/fps30_mask/backslice.mp4'"
   ]
  },
  {
   "cell_type": "code",
   "execution_count": 3,
   "metadata": {},
   "outputs": [],
   "source": [
    "path_movie = '../data/movie/raw/test_mask.mp4'\n",
    "# path_movie = '../data/movie/fps30/backslice_h264.mp4'\n",
    "\n",
    "path_save_movie = '../data/movie/fps30_mask/test.mp4'\n",
    "# path_save_movie = '../data/movie/fps30_mask/backslice.mp4'"
   ]
  },
  {
   "cell_type": "code",
   "execution_count": 4,
   "metadata": {},
   "outputs": [
    {
     "name": "stderr",
     "output_type": "stream",
     "text": [
      "2019-09-16 14:16:47,282 - pyvino.detector.detector - INFO - human-pose-estimation-0001 on Darwin\n",
      "2019-09-16 14:16:47,284 - pyvino.detector.detector - INFO - The path to cpu_extension is /opt/intel/openvino/inference_engine/lib/intel64/libcpu_extension.dylib\n",
      "2019-09-16 14:16:47,556 - pyvino.detector.detector - INFO - person-detection-retail-0013 on Darwin\n",
      "2019-09-16 14:16:47,556 - pyvino.detector.detector - INFO - The path to cpu_extension is /opt/intel/openvino/inference_engine/lib/intel64/libcpu_extension.dylib\n"
     ]
    }
   ],
   "source": [
    "det_b = DetectorHumanPose()"
   ]
  },
  {
   "cell_type": "code",
   "execution_count": null,
   "metadata": {},
   "outputs": [],
   "source": []
  },
  {
   "cell_type": "code",
   "execution_count": 7,
   "metadata": {},
   "outputs": [],
   "source": [
    "cap = cv2.VideoCapture(path_movie)\n",
    "# 幅\n",
    "width_movie = int(cap.get(cv2.CAP_PROP_FRAME_WIDTH))\n",
    "# 高さ\n",
    "height_movie = int(cap.get(cv2.CAP_PROP_FRAME_HEIGHT))\n",
    "# 総フレーム数\n",
    "count = int(cap.get(cv2.CAP_PROP_FRAME_COUNT))\n",
    "# fps\n",
    "fps = int(cap.get(cv2.CAP_PROP_FPS))\n",
    "\n",
    "canvas_org = np.zeros((height_movie, width_movie, 3), np.uint8)"
   ]
  },
  {
   "cell_type": "code",
   "execution_count": 8,
   "metadata": {},
   "outputs": [],
   "source": [
    "mask = canvas_org = np.zeros((height_movie, 400, 3), np.uint8)"
   ]
  },
  {
   "cell_type": "code",
   "execution_count": 9,
   "metadata": {},
   "outputs": [
    {
     "data": {
      "text/plain": [
       "(1080, 400, 3)"
      ]
     },
     "execution_count": 9,
     "metadata": {},
     "output_type": "execute_result"
    }
   ],
   "source": [
    "mask.shape"
   ]
  },
  {
   "cell_type": "code",
   "execution_count": 10,
   "metadata": {},
   "outputs": [],
   "source": [
    "show = False"
   ]
  },
  {
   "cell_type": "code",
   "execution_count": 11,
   "metadata": {},
   "outputs": [],
   "source": [
    "\n",
    "# fourcc = cv2.VideoWriter_fourcc(*\"MJPG\")\n",
    "# fourcc = cv2.VideoWriter_fourcc('m', 'p', '4', 'v')\n",
    "fourcc = cv2.VideoWriter_fourcc(*\"H264\")\n",
    "video = cv2.VideoWriter(path_save_movie, fourcc, 30, (width_movie, height_movie))\n",
    "cap = cv2.VideoCapture(path_movie)\n",
    "\n",
    "frame_num = 0\n",
    "while True:\n",
    "    ret, frame = cap.read()\n",
    "    if not ret:\n",
    "        break\n",
    "    \n",
    "    frame = np.array(frame)\n",
    "    ############################\n",
    "    # frame = det_b.compute(frame, frame_flag=True)['frame']\n",
    "    ############################\n",
    "    \n",
    "    frame[0:mask.shape[0], 0:mask.shape[1]] = mask\n",
    "    if frame_num % 2 == 0:\n",
    "        video.write(frame)\n",
    "\n",
    "        if show:\n",
    "            cv2.imshow('demo', frame)\n",
    "            if cv2.waitKey(1) & 0xFF == ord('q'):\n",
    "                break\n",
    "                \n",
    "    frame_num += 1\n",
    "\n",
    "cap.release()\n",
    "cv2.destroyAllWindows()\n",
    "video.release()"
   ]
  },
  {
   "cell_type": "code",
   "execution_count": 8,
   "metadata": {},
   "outputs": [],
   "source": [
    "video.release()"
   ]
  },
  {
   "cell_type": "code",
   "execution_count": null,
   "metadata": {},
   "outputs": [],
   "source": []
  },
  {
   "cell_type": "code",
   "execution_count": null,
   "metadata": {},
   "outputs": [],
   "source": []
  }
 ],
 "metadata": {
  "kernelspec": {
   "display_name": "Python 3",
   "language": "python",
   "name": "python3"
  },
  "language_info": {
   "codemirror_mode": {
    "name": "ipython",
    "version": 3
   },
   "file_extension": ".py",
   "mimetype": "text/x-python",
   "name": "python",
   "nbconvert_exporter": "python",
   "pygments_lexer": "ipython3",
   "version": "3.6.5"
  },
  "toc": {
   "base_numbering": 1,
   "nav_menu": {},
   "number_sections": true,
   "sideBar": true,
   "skip_h1_title": false,
   "title_cell": "Table of Contents",
   "title_sidebar": "Contents",
   "toc_cell": false,
   "toc_position": {},
   "toc_section_display": true,
   "toc_window_display": false
  }
 },
 "nbformat": 4,
 "nbformat_minor": 2
}
