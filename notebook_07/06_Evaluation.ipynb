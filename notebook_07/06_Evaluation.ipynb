{
 "cells": [
  {
   "cell_type": "markdown",
   "metadata": {},
   "source": [
    "# import"
   ]
  },
  {
   "cell_type": "code",
   "execution_count": 70,
   "metadata": {},
   "outputs": [],
   "source": [
    "import os\n",
    "import pandas as pd\n",
    "import numpy as np\n",
    "import matplotlib.pyplot as plt\n",
    "from sklearn.model_selection import train_test_split\n",
    "import lightgbm as lgb\n",
    "import pickle\n",
    "from pyvino.detector.detector import DetectorHumanPose\n",
    "import sys\n",
    "sys.path.append('..')\n",
    "from actrec.util import moving_average, flatten_data"
   ]
  },
  {
   "cell_type": "markdown",
   "metadata": {},
   "source": [
    " # path"
   ]
  },
  {
   "cell_type": "code",
   "execution_count": 71,
   "metadata": {},
   "outputs": [
    {
     "data": {
      "text/plain": [
       "'07'"
      ]
     },
     "execution_count": 71,
     "metadata": {},
     "output_type": "execute_result"
    }
   ],
   "source": [
    "notebook_name = os.path.basename(os.getcwd())\n",
    "timestamp = notebook_name.split('_')[1]\n",
    "timestamp"
   ]
  },
  {
   "cell_type": "code",
   "execution_count": 72,
   "metadata": {},
   "outputs": [],
   "source": [
    "path_movie_dir = '../data/movie/'\n",
    "path_save_dir = os.path.join('../data/06_Evaluation/', timestamp)\n",
    "if not os.path.exists(path_save_dir):\n",
    "    os.makedirs(path_save_dir)\n",
    "# path_save_file = os.path.join(path_save_dir, 'test_data.csv')\n",
    "path_save_file = os.path.join(path_save_dir, 'test_4.csv')"
   ]
  },
  {
   "cell_type": "code",
   "execution_count": 73,
   "metadata": {},
   "outputs": [],
   "source": [
    "path_label_name_file = '../data/labels/labels_num.csv'\n",
    "path_action_dir = os.path.join('../data/01_DataProcessing/', timestamp)\n",
    "path_point_dir = os.path.join('../data/02_GetPoints/', timestamp)\n",
    "path_split_dir = os.path.join('../data/04_Split/', timestamp)\n",
    "path_test_file_dir = os.path.join(path_split_dir, 'test')\n",
    "path_test_file = os.path.join(path_test_file_dir, 'test_4.csv')\n",
    "path_model_dir = os.path.join('../data/05_train/', timestamp)\n",
    "path_model_file = os.path.join(path_model_dir, 'model.pkl')"
   ]
  },
  {
   "cell_type": "code",
   "execution_count": 74,
   "metadata": {},
   "outputs": [],
   "source": [
    "file_names = ['forehand', 'backhand', 'foreslice', 'backslice']\n",
    "# file_names = ['forehand']\n",
    "movie_names = [file_name + '.mp4' for file_name in file_names]\n",
    "points_file_names = [file_name + '.csv' for file_name in file_names]"
   ]
  },
  {
   "cell_type": "markdown",
   "metadata": {},
   "source": [
    "file_names = ['test']\n",
    "movie_names = [file_name + '.MOV' for file_name in file_names]\n",
    "points_file_names = [file_name + '.csv' for file_name in file_names]"
   ]
  },
  {
   "cell_type": "code",
   "execution_count": 75,
   "metadata": {},
   "outputs": [
    {
     "data": {
      "text/plain": [
       "'../data/05_train/07/model.pkl'"
      ]
     },
     "execution_count": 75,
     "metadata": {},
     "output_type": "execute_result"
    }
   ],
   "source": [
    "path_model_file"
   ]
  },
  {
   "cell_type": "code",
   "execution_count": 76,
   "metadata": {},
   "outputs": [],
   "source": [
    "path_split_dir = os.path.join('../data/04_Split/', timestamp)\n",
    "path_test_file_dir = os.path.join(path_split_dir, 'test')"
   ]
  },
  {
   "cell_type": "markdown",
   "metadata": {},
   "source": [
    "# data"
   ]
  },
  {
   "cell_type": "code",
   "execution_count": 77,
   "metadata": {},
   "outputs": [],
   "source": [
    "objective = 'action_gt_num'"
   ]
  },
  {
   "cell_type": "markdown",
   "metadata": {},
   "source": [
    "num = 3\n",
    "data_name = points_file_names[num]"
   ]
  },
  {
   "cell_type": "markdown",
   "metadata": {},
   "source": [
    "path_test_dir = os.path.join(path_split_dir, 'test')\n",
    "path_test_file = os.path.join(path_test_dir, data_name)\n",
    "test_data = pd.read_csv(path_test_file)"
   ]
  },
  {
   "cell_type": "code",
   "execution_count": 78,
   "metadata": {},
   "outputs": [],
   "source": [
    "label_names = pd.read_csv(path_label_name_file)"
   ]
  },
  {
   "cell_type": "code",
   "execution_count": 79,
   "metadata": {},
   "outputs": [
    {
     "data": {
      "text/html": [
       "<div>\n",
       "<style scoped>\n",
       "    .dataframe tbody tr th:only-of-type {\n",
       "        vertical-align: middle;\n",
       "    }\n",
       "\n",
       "    .dataframe tbody tr th {\n",
       "        vertical-align: top;\n",
       "    }\n",
       "\n",
       "    .dataframe thead th {\n",
       "        text-align: right;\n",
       "    }\n",
       "</style>\n",
       "<table border=\"1\" class=\"dataframe\">\n",
       "  <thead>\n",
       "    <tr style=\"text-align: right;\">\n",
       "      <th></th>\n",
       "      <th>action_gt_name</th>\n",
       "      <th>action_gt_num</th>\n",
       "    </tr>\n",
       "  </thead>\n",
       "  <tbody>\n",
       "    <tr>\n",
       "      <th>0</th>\n",
       "      <td>idle</td>\n",
       "      <td>0</td>\n",
       "    </tr>\n",
       "    <tr>\n",
       "      <th>1</th>\n",
       "      <td>forehand</td>\n",
       "      <td>1</td>\n",
       "    </tr>\n",
       "    <tr>\n",
       "      <th>2</th>\n",
       "      <td>backhand</td>\n",
       "      <td>2</td>\n",
       "    </tr>\n",
       "    <tr>\n",
       "      <th>3</th>\n",
       "      <td>foreslice</td>\n",
       "      <td>3</td>\n",
       "    </tr>\n",
       "    <tr>\n",
       "      <th>4</th>\n",
       "      <td>backslice</td>\n",
       "      <td>4</td>\n",
       "    </tr>\n",
       "  </tbody>\n",
       "</table>\n",
       "</div>"
      ],
      "text/plain": [
       "  action_gt_name  action_gt_num\n",
       "0           idle              0\n",
       "1       forehand              1\n",
       "2       backhand              2\n",
       "3      foreslice              3\n",
       "4      backslice              4"
      ]
     },
     "execution_count": 79,
     "metadata": {},
     "output_type": "execute_result"
    }
   ],
   "source": [
    "label_names"
   ]
  },
  {
   "cell_type": "markdown",
   "metadata": {},
   "source": [
    "# モデル読み込み"
   ]
  },
  {
   "cell_type": "code",
   "execution_count": 80,
   "metadata": {},
   "outputs": [
    {
     "data": {
      "text/plain": [
       "'../data/05_train/07/model.pkl'"
      ]
     },
     "execution_count": 80,
     "metadata": {},
     "output_type": "execute_result"
    }
   ],
   "source": [
    "gbm = pickle.load(open(path_model_file, \"rb\"))\n",
    "path_model_file"
   ]
  },
  {
   "cell_type": "code",
   "execution_count": 81,
   "metadata": {},
   "outputs": [],
   "source": [
    "feature_name_list = gbm.feature_name()"
   ]
  },
  {
   "cell_type": "markdown",
   "metadata": {},
   "source": [
    "# process"
   ]
  },
  {
   "cell_type": "markdown",
   "metadata": {},
   "source": [
    "## moving average"
   ]
  },
  {
   "cell_type": "code",
   "execution_count": 82,
   "metadata": {},
   "outputs": [],
   "source": [
    "target_columns = ['RShoulder_x', 'RShoulder_y', 'RElbow_x', 'RElbow_y', 'RWrist_x', 'RWrist_y', \n",
    "                         'LShoulder_x', 'LShoulder_y', 'LElbow_x', 'LElbow_y', 'LWrist_x', 'LWrist_y']"
   ]
  },
  {
   "cell_type": "markdown",
   "metadata": {},
   "source": [
    "# parameters"
   ]
  },
  {
   "cell_type": "code",
   "execution_count": 83,
   "metadata": {},
   "outputs": [],
   "source": [
    "frame_length = 15\n",
    "assert frame_length == int(len(feature_name_list) / len(target_columns))"
   ]
  },
  {
   "cell_type": "markdown",
   "metadata": {},
   "source": [
    "## frames as one row data"
   ]
  },
  {
   "cell_type": "code",
   "execution_count": 84,
   "metadata": {},
   "outputs": [
    {
     "name": "stdout",
     "output_type": "stream",
     "text": [
      "forehand.csv\n",
      "backhand.csv\n",
      "foreslice.csv\n",
      "backslice.csv\n"
     ]
    }
   ],
   "source": [
    "new_data_df = None\n",
    "for num, points_file_name in enumerate(points_file_names):\n",
    "    print(points_file_name)\n",
    "    path_file = os.path.join(path_test_file_dir, points_file_name)\n",
    "    data_df = pd.read_csv(path_file, index_col='frame_num')\n",
    "    units_df = None\n",
    "    for idx in data_df.index[frame_length:len(data_df)]:\n",
    "        unit_df = data_df.loc[idx - frame_length: idx]\n",
    "        y = unit_df[objective]\n",
    "        X = unit_df.drop(columns=[objective]).loc[:, target_columns]\n",
    "        unit_df = flatten_data(X, y, objective)\n",
    "        if units_df is None:\n",
    "            units_df = unit_df\n",
    "        else:\n",
    "            units_df = pd.concat([units_df, unit_df], axis=0, sort=False)\n",
    "    path_save_file = os.path.join(path_save_dir, points_file_name)\n",
    "    units_df.to_csv(path_save_file)\n",
    "    if new_data_df is None:\n",
    "        new_data_df = units_df\n",
    "    else:\n",
    "        new_data_df = pd.concat([new_data_df, units_df], axis=0, sort=False)\n",
    "test_data_df = new_data_df.copy()\n",
    "test_data_df.to_csv(path_test_file)"
   ]
  },
  {
   "cell_type": "code",
   "execution_count": 113,
   "metadata": {},
   "outputs": [
    {
     "data": {
      "text/html": [
       "<div>\n",
       "<style scoped>\n",
       "    .dataframe tbody tr th:only-of-type {\n",
       "        vertical-align: middle;\n",
       "    }\n",
       "\n",
       "    .dataframe tbody tr th {\n",
       "        vertical-align: top;\n",
       "    }\n",
       "\n",
       "    .dataframe thead th {\n",
       "        text-align: right;\n",
       "    }\n",
       "</style>\n",
       "<table border=\"1\" class=\"dataframe\">\n",
       "  <thead>\n",
       "    <tr style=\"text-align: right;\">\n",
       "      <th></th>\n",
       "      <th>RShoulder_x_-15</th>\n",
       "      <th>RShoulder_y_-15</th>\n",
       "      <th>RElbow_x_-15</th>\n",
       "      <th>RElbow_y_-15</th>\n",
       "      <th>RWrist_x_-15</th>\n",
       "      <th>RWrist_y_-15</th>\n",
       "      <th>LShoulder_x_-15</th>\n",
       "      <th>LShoulder_y_-15</th>\n",
       "      <th>LElbow_x_-15</th>\n",
       "      <th>LElbow_y_-15</th>\n",
       "      <th>...</th>\n",
       "      <th>RElbow_x_0</th>\n",
       "      <th>RElbow_y_0</th>\n",
       "      <th>RWrist_x_0</th>\n",
       "      <th>RWrist_y_0</th>\n",
       "      <th>LShoulder_x_0</th>\n",
       "      <th>LShoulder_y_0</th>\n",
       "      <th>LElbow_x_0</th>\n",
       "      <th>LElbow_y_0</th>\n",
       "      <th>LWrist_x_0</th>\n",
       "      <th>LWrist_y_0</th>\n",
       "    </tr>\n",
       "    <tr>\n",
       "      <th>action_gt_num</th>\n",
       "      <th></th>\n",
       "      <th></th>\n",
       "      <th></th>\n",
       "      <th></th>\n",
       "      <th></th>\n",
       "      <th></th>\n",
       "      <th></th>\n",
       "      <th></th>\n",
       "      <th></th>\n",
       "      <th></th>\n",
       "      <th></th>\n",
       "      <th></th>\n",
       "      <th></th>\n",
       "      <th></th>\n",
       "      <th></th>\n",
       "      <th></th>\n",
       "      <th></th>\n",
       "      <th></th>\n",
       "      <th></th>\n",
       "      <th></th>\n",
       "      <th></th>\n",
       "    </tr>\n",
       "  </thead>\n",
       "  <tbody>\n",
       "    <tr>\n",
       "      <th>0</th>\n",
       "      <td>2617</td>\n",
       "      <td>2617</td>\n",
       "      <td>2237</td>\n",
       "      <td>2237</td>\n",
       "      <td>2073</td>\n",
       "      <td>2073</td>\n",
       "      <td>2550</td>\n",
       "      <td>2550</td>\n",
       "      <td>2151</td>\n",
       "      <td>2151</td>\n",
       "      <td>...</td>\n",
       "      <td>2186</td>\n",
       "      <td>2186</td>\n",
       "      <td>1992</td>\n",
       "      <td>1992</td>\n",
       "      <td>2509</td>\n",
       "      <td>2509</td>\n",
       "      <td>2247</td>\n",
       "      <td>2247</td>\n",
       "      <td>2074</td>\n",
       "      <td>2074</td>\n",
       "    </tr>\n",
       "    <tr>\n",
       "      <th>1</th>\n",
       "      <td>260</td>\n",
       "      <td>260</td>\n",
       "      <td>254</td>\n",
       "      <td>254</td>\n",
       "      <td>260</td>\n",
       "      <td>260</td>\n",
       "      <td>258</td>\n",
       "      <td>258</td>\n",
       "      <td>239</td>\n",
       "      <td>239</td>\n",
       "      <td>...</td>\n",
       "      <td>247</td>\n",
       "      <td>247</td>\n",
       "      <td>232</td>\n",
       "      <td>232</td>\n",
       "      <td>259</td>\n",
       "      <td>259</td>\n",
       "      <td>208</td>\n",
       "      <td>208</td>\n",
       "      <td>220</td>\n",
       "      <td>220</td>\n",
       "    </tr>\n",
       "    <tr>\n",
       "      <th>2</th>\n",
       "      <td>364</td>\n",
       "      <td>364</td>\n",
       "      <td>339</td>\n",
       "      <td>339</td>\n",
       "      <td>257</td>\n",
       "      <td>257</td>\n",
       "      <td>364</td>\n",
       "      <td>364</td>\n",
       "      <td>363</td>\n",
       "      <td>363</td>\n",
       "      <td>...</td>\n",
       "      <td>337</td>\n",
       "      <td>337</td>\n",
       "      <td>283</td>\n",
       "      <td>283</td>\n",
       "      <td>343</td>\n",
       "      <td>343</td>\n",
       "      <td>260</td>\n",
       "      <td>260</td>\n",
       "      <td>286</td>\n",
       "      <td>286</td>\n",
       "    </tr>\n",
       "    <tr>\n",
       "      <th>3</th>\n",
       "      <td>234</td>\n",
       "      <td>234</td>\n",
       "      <td>234</td>\n",
       "      <td>234</td>\n",
       "      <td>230</td>\n",
       "      <td>230</td>\n",
       "      <td>223</td>\n",
       "      <td>223</td>\n",
       "      <td>176</td>\n",
       "      <td>176</td>\n",
       "      <td>...</td>\n",
       "      <td>231</td>\n",
       "      <td>231</td>\n",
       "      <td>221</td>\n",
       "      <td>221</td>\n",
       "      <td>225</td>\n",
       "      <td>225</td>\n",
       "      <td>167</td>\n",
       "      <td>167</td>\n",
       "      <td>181</td>\n",
       "      <td>181</td>\n",
       "    </tr>\n",
       "    <tr>\n",
       "      <th>4</th>\n",
       "      <td>302</td>\n",
       "      <td>302</td>\n",
       "      <td>270</td>\n",
       "      <td>270</td>\n",
       "      <td>191</td>\n",
       "      <td>191</td>\n",
       "      <td>312</td>\n",
       "      <td>312</td>\n",
       "      <td>308</td>\n",
       "      <td>308</td>\n",
       "      <td>...</td>\n",
       "      <td>285</td>\n",
       "      <td>285</td>\n",
       "      <td>239</td>\n",
       "      <td>239</td>\n",
       "      <td>314</td>\n",
       "      <td>314</td>\n",
       "      <td>311</td>\n",
       "      <td>311</td>\n",
       "      <td>295</td>\n",
       "      <td>295</td>\n",
       "    </tr>\n",
       "  </tbody>\n",
       "</table>\n",
       "<p>5 rows × 192 columns</p>\n",
       "</div>"
      ],
      "text/plain": [
       "               RShoulder_x_-15  RShoulder_y_-15  RElbow_x_-15  RElbow_y_-15  \\\n",
       "action_gt_num                                                                 \n",
       "0                         2617             2617          2237          2237   \n",
       "1                          260              260           254           254   \n",
       "2                          364              364           339           339   \n",
       "3                          234              234           234           234   \n",
       "4                          302              302           270           270   \n",
       "\n",
       "               RWrist_x_-15  RWrist_y_-15  LShoulder_x_-15  LShoulder_y_-15  \\\n",
       "action_gt_num                                                                 \n",
       "0                      2073          2073             2550             2550   \n",
       "1                       260           260              258              258   \n",
       "2                       257           257              364              364   \n",
       "3                       230           230              223              223   \n",
       "4                       191           191              312              312   \n",
       "\n",
       "               LElbow_x_-15  LElbow_y_-15  ...  RElbow_x_0  RElbow_y_0  \\\n",
       "action_gt_num                              ...                           \n",
       "0                      2151          2151  ...        2186        2186   \n",
       "1                       239           239  ...         247         247   \n",
       "2                       363           363  ...         337         337   \n",
       "3                       176           176  ...         231         231   \n",
       "4                       308           308  ...         285         285   \n",
       "\n",
       "               RWrist_x_0  RWrist_y_0  LShoulder_x_0  LShoulder_y_0  \\\n",
       "action_gt_num                                                         \n",
       "0                    1992        1992           2509           2509   \n",
       "1                     232         232            259            259   \n",
       "2                     283         283            343            343   \n",
       "3                     221         221            225            225   \n",
       "4                     239         239            314            314   \n",
       "\n",
       "               LElbow_x_0  LElbow_y_0  LWrist_x_0  LWrist_y_0  \n",
       "action_gt_num                                                  \n",
       "0                    2247        2247        2074        2074  \n",
       "1                     208         208         220         220  \n",
       "2                     260         260         286         286  \n",
       "3                     167         167         181         181  \n",
       "4                     311         311         295         295  \n",
       "\n",
       "[5 rows x 192 columns]"
      ]
     },
     "execution_count": 113,
     "metadata": {},
     "output_type": "execute_result"
    }
   ],
   "source": [
    "new_data_df.groupby(objective).count()"
   ]
  },
  {
   "cell_type": "code",
   "execution_count": 118,
   "metadata": {},
   "outputs": [
    {
     "data": {
      "text/plain": [
       "action_gt_num\n",
       "0    2850\n",
       "1     260\n",
       "2     364\n",
       "3     234\n",
       "4     348\n",
       "Name: dummy, dtype: int64"
      ]
     },
     "execution_count": 118,
     "metadata": {},
     "output_type": "execute_result"
    }
   ],
   "source": [
    "test_data_df['dummy'] = 1\n",
    "test_data_df.groupby(objective).count()['dummy']"
   ]
  },
  {
   "cell_type": "markdown",
   "metadata": {},
   "source": [
    "## テストデータ"
   ]
  },
  {
   "cell_type": "code",
   "execution_count": 85,
   "metadata": {},
   "outputs": [],
   "source": [
    "X_test_data_df = test_data_df.drop([objective], axis=1)\n",
    "y_test_data_df = test_data_df[objective]"
   ]
  },
  {
   "cell_type": "markdown",
   "metadata": {},
   "source": [
    "# 予測"
   ]
  },
  {
   "cell_type": "code",
   "execution_count": 86,
   "metadata": {},
   "outputs": [],
   "source": [
    "y_pred = gbm.predict(X_test_data_df, num_iteration=gbm.best_iteration)\n",
    "y_pred = np.argmax(y_pred, axis=1)"
   ]
  },
  {
   "cell_type": "code",
   "execution_count": 87,
   "metadata": {},
   "outputs": [],
   "source": [
    "objective_pred = 'action_pred_num'"
   ]
  },
  {
   "cell_type": "code",
   "execution_count": 88,
   "metadata": {},
   "outputs": [],
   "source": [
    "test_data_df[objective_pred] = y_pred\n",
    "test_data_df = test_data_df.reset_index(drop=True)"
   ]
  },
  {
   "cell_type": "markdown",
   "metadata": {},
   "source": [
    "# 精度"
   ]
  },
  {
   "cell_type": "markdown",
   "metadata": {},
   "source": [
    "## 計算"
   ]
  },
  {
   "cell_type": "code",
   "execution_count": 90,
   "metadata": {},
   "outputs": [],
   "source": [
    "accuracy_all = np.sum(test_data_df[objective] == test_data_df[objective_pred]) / len(test_data_df)"
   ]
  },
  {
   "cell_type": "code",
   "execution_count": 91,
   "metadata": {},
   "outputs": [
    {
     "name": "stdout",
     "output_type": "stream",
     "text": [
      "accuracy:  89.32  %\n"
     ]
    }
   ],
   "source": [
    "print('accuracy: ', round(accuracy_all*100, 2), ' %')"
   ]
  },
  {
   "cell_type": "code",
   "execution_count": 92,
   "metadata": {},
   "outputs": [],
   "source": [
    "objective_rev_dict = label_names.to_dict()['action_gt_name']"
   ]
  },
  {
   "cell_type": "code",
   "execution_count": 93,
   "metadata": {},
   "outputs": [],
   "source": [
    "test_data_df['action_gt_name'] = test_data_df[objective].apply(lambda x: objective_rev_dict[x])\n",
    "test_data_df['action_pred_name'] = test_data_df[objective_pred].apply(lambda x: objective_rev_dict[x])"
   ]
  },
  {
   "cell_type": "code",
   "execution_count": 94,
   "metadata": {},
   "outputs": [
    {
     "data": {
      "text/plain": [
       "Index(['RShoulder_x_-15', 'RShoulder_y_-15', 'RElbow_x_-15', 'RElbow_y_-15',\n",
       "       'RWrist_x_-15', 'RWrist_y_-15', 'LShoulder_x_-15', 'LShoulder_y_-15',\n",
       "       'LElbow_x_-15', 'LElbow_y_-15',\n",
       "       ...\n",
       "       'LShoulder_x_0', 'LShoulder_y_0', 'LElbow_x_0', 'LElbow_y_0',\n",
       "       'LWrist_x_0', 'LWrist_y_0', 'action_gt_num', 'action_pred_num',\n",
       "       'action_gt_name', 'action_pred_name'],\n",
       "      dtype='object', length=196)"
      ]
     },
     "execution_count": 94,
     "metadata": {},
     "output_type": "execute_result"
    }
   ],
   "source": [
    "test_data_df.columns"
   ]
  },
  {
   "cell_type": "markdown",
   "metadata": {},
   "source": [
    "# 評価"
   ]
  },
  {
   "cell_type": "markdown",
   "metadata": {},
   "source": [
    "## confusion matrix"
   ]
  },
  {
   "cell_type": "code",
   "execution_count": 95,
   "metadata": {},
   "outputs": [],
   "source": [
    "from sklearn.metrics import confusion_matrix"
   ]
  },
  {
   "cell_type": "code",
   "execution_count": 96,
   "metadata": {},
   "outputs": [
    {
     "data": {
      "text/plain": [
       "['idle', 'forehand', 'backhand', 'foreslice', 'backslice']"
      ]
     },
     "execution_count": 96,
     "metadata": {},
     "output_type": "execute_result"
    }
   ],
   "source": [
    "objective_names = list(objective_rev_dict.values())\n",
    "objective_names"
   ]
  },
  {
   "cell_type": "code",
   "execution_count": 97,
   "metadata": {},
   "outputs": [],
   "source": [
    "confusion_matrix_df = confusion_matrix(test_data_df[objective], test_data_df[objective_pred])"
   ]
  },
  {
   "cell_type": "code",
   "execution_count": 98,
   "metadata": {},
   "outputs": [],
   "source": [
    "objective_names_pred = [objective_name + '_pred' for objective_name in objective_names]\n",
    "objective_names_gt = [objective_name + '_gt' for objective_name in objective_names]"
   ]
  },
  {
   "cell_type": "markdown",
   "metadata": {},
   "source": [
    "objective_names_pred = [objective_name + '_pred' for objective_name in ['idle', 'forehand']]\n",
    "objective_names_gt = [objective_name + '_gt' for objective_name in ['idle', 'forehand']]"
   ]
  },
  {
   "cell_type": "code",
   "execution_count": 99,
   "metadata": {},
   "outputs": [
    {
     "data": {
      "text/plain": [
       "array([[2684,   14,   40,   13,   99],\n",
       "       [  55,  188,    0,   17,    0],\n",
       "       [  43,    0,  321,    0,    0],\n",
       "       [  87,   12,    0,  135,    0],\n",
       "       [  52,    0,    1,    0,  295]])"
      ]
     },
     "execution_count": 99,
     "metadata": {},
     "output_type": "execute_result"
    }
   ],
   "source": [
    "confusion_matrix_df"
   ]
  },
  {
   "cell_type": "code",
   "execution_count": 100,
   "metadata": {},
   "outputs": [
    {
     "data": {
      "text/html": [
       "<div>\n",
       "<style scoped>\n",
       "    .dataframe tbody tr th:only-of-type {\n",
       "        vertical-align: middle;\n",
       "    }\n",
       "\n",
       "    .dataframe tbody tr th {\n",
       "        vertical-align: top;\n",
       "    }\n",
       "\n",
       "    .dataframe thead th {\n",
       "        text-align: right;\n",
       "    }\n",
       "</style>\n",
       "<table border=\"1\" class=\"dataframe\">\n",
       "  <thead>\n",
       "    <tr style=\"text-align: right;\">\n",
       "      <th></th>\n",
       "      <th>idle_pred</th>\n",
       "      <th>forehand_pred</th>\n",
       "      <th>backhand_pred</th>\n",
       "      <th>foreslice_pred</th>\n",
       "      <th>backslice_pred</th>\n",
       "    </tr>\n",
       "  </thead>\n",
       "  <tbody>\n",
       "    <tr>\n",
       "      <th>idle_gt</th>\n",
       "      <td>2684</td>\n",
       "      <td>14</td>\n",
       "      <td>40</td>\n",
       "      <td>13</td>\n",
       "      <td>99</td>\n",
       "    </tr>\n",
       "    <tr>\n",
       "      <th>forehand_gt</th>\n",
       "      <td>55</td>\n",
       "      <td>188</td>\n",
       "      <td>0</td>\n",
       "      <td>17</td>\n",
       "      <td>0</td>\n",
       "    </tr>\n",
       "    <tr>\n",
       "      <th>backhand_gt</th>\n",
       "      <td>43</td>\n",
       "      <td>0</td>\n",
       "      <td>321</td>\n",
       "      <td>0</td>\n",
       "      <td>0</td>\n",
       "    </tr>\n",
       "    <tr>\n",
       "      <th>foreslice_gt</th>\n",
       "      <td>87</td>\n",
       "      <td>12</td>\n",
       "      <td>0</td>\n",
       "      <td>135</td>\n",
       "      <td>0</td>\n",
       "    </tr>\n",
       "    <tr>\n",
       "      <th>backslice_gt</th>\n",
       "      <td>52</td>\n",
       "      <td>0</td>\n",
       "      <td>1</td>\n",
       "      <td>0</td>\n",
       "      <td>295</td>\n",
       "    </tr>\n",
       "  </tbody>\n",
       "</table>\n",
       "</div>"
      ],
      "text/plain": [
       "              idle_pred  forehand_pred  backhand_pred  foreslice_pred  \\\n",
       "idle_gt            2684             14             40              13   \n",
       "forehand_gt          55            188              0              17   \n",
       "backhand_gt          43              0            321               0   \n",
       "foreslice_gt         87             12              0             135   \n",
       "backslice_gt         52              0              1               0   \n",
       "\n",
       "              backslice_pred  \n",
       "idle_gt                   99  \n",
       "forehand_gt                0  \n",
       "backhand_gt                0  \n",
       "foreslice_gt               0  \n",
       "backslice_gt             295  "
      ]
     },
     "execution_count": 100,
     "metadata": {},
     "output_type": "execute_result"
    }
   ],
   "source": [
    "confusion_matrix_df = pd.DataFrame(confusion_matrix_df, columns=objective_names_pred, index=objective_names_gt)\n",
    "confusion_matrix_df"
   ]
  },
  {
   "cell_type": "code",
   "execution_count": 104,
   "metadata": {},
   "outputs": [
    {
     "data": {
      "text/html": [
       "<div>\n",
       "<style scoped>\n",
       "    .dataframe tbody tr th:only-of-type {\n",
       "        vertical-align: middle;\n",
       "    }\n",
       "\n",
       "    .dataframe tbody tr th {\n",
       "        vertical-align: top;\n",
       "    }\n",
       "\n",
       "    .dataframe thead th {\n",
       "        text-align: right;\n",
       "    }\n",
       "</style>\n",
       "<table border=\"1\" class=\"dataframe\">\n",
       "  <thead>\n",
       "    <tr style=\"text-align: right;\">\n",
       "      <th></th>\n",
       "      <th>idle_pred</th>\n",
       "      <th>forehand_pred</th>\n",
       "      <th>backhand_pred</th>\n",
       "      <th>foreslice_pred</th>\n",
       "      <th>backslice_pred</th>\n",
       "    </tr>\n",
       "  </thead>\n",
       "  <tbody>\n",
       "    <tr>\n",
       "      <th>idle_gt</th>\n",
       "      <td>91.886340</td>\n",
       "      <td>6.542056</td>\n",
       "      <td>11.049724</td>\n",
       "      <td>7.878788</td>\n",
       "      <td>25.126904</td>\n",
       "    </tr>\n",
       "    <tr>\n",
       "      <th>forehand_gt</th>\n",
       "      <td>1.882917</td>\n",
       "      <td>87.850467</td>\n",
       "      <td>0.000000</td>\n",
       "      <td>10.303030</td>\n",
       "      <td>0.000000</td>\n",
       "    </tr>\n",
       "    <tr>\n",
       "      <th>backhand_gt</th>\n",
       "      <td>1.472099</td>\n",
       "      <td>0.000000</td>\n",
       "      <td>88.674033</td>\n",
       "      <td>0.000000</td>\n",
       "      <td>0.000000</td>\n",
       "    </tr>\n",
       "    <tr>\n",
       "      <th>foreslice_gt</th>\n",
       "      <td>2.978432</td>\n",
       "      <td>5.607477</td>\n",
       "      <td>0.000000</td>\n",
       "      <td>81.818182</td>\n",
       "      <td>0.000000</td>\n",
       "    </tr>\n",
       "    <tr>\n",
       "      <th>backslice_gt</th>\n",
       "      <td>1.780212</td>\n",
       "      <td>0.000000</td>\n",
       "      <td>0.276243</td>\n",
       "      <td>0.000000</td>\n",
       "      <td>74.873096</td>\n",
       "    </tr>\n",
       "  </tbody>\n",
       "</table>\n",
       "</div>"
      ],
      "text/plain": [
       "              idle_pred  forehand_pred  backhand_pred  foreslice_pred  \\\n",
       "idle_gt       91.886340       6.542056      11.049724        7.878788   \n",
       "forehand_gt    1.882917      87.850467       0.000000       10.303030   \n",
       "backhand_gt    1.472099       0.000000      88.674033        0.000000   \n",
       "foreslice_gt   2.978432       5.607477       0.000000       81.818182   \n",
       "backslice_gt   1.780212       0.000000       0.276243        0.000000   \n",
       "\n",
       "              backslice_pred  \n",
       "idle_gt            25.126904  \n",
       "forehand_gt         0.000000  \n",
       "backhand_gt         0.000000  \n",
       "foreslice_gt        0.000000  \n",
       "backslice_gt       74.873096  "
      ]
     },
     "execution_count": 104,
     "metadata": {},
     "output_type": "execute_result"
    }
   ],
   "source": [
    "# Precision\n",
    "confusion_matrix_df / confusion_matrix_df.sum(axis=0) * 100"
   ]
  },
  {
   "cell_type": "code",
   "execution_count": 105,
   "metadata": {},
   "outputs": [
    {
     "data": {
      "text/html": [
       "<div>\n",
       "<style scoped>\n",
       "    .dataframe tbody tr th:only-of-type {\n",
       "        vertical-align: middle;\n",
       "    }\n",
       "\n",
       "    .dataframe tbody tr th {\n",
       "        vertical-align: top;\n",
       "    }\n",
       "\n",
       "    .dataframe thead th {\n",
       "        text-align: right;\n",
       "    }\n",
       "</style>\n",
       "<table border=\"1\" class=\"dataframe\">\n",
       "  <thead>\n",
       "    <tr style=\"text-align: right;\">\n",
       "      <th></th>\n",
       "      <th>idle_pred</th>\n",
       "      <th>forehand_pred</th>\n",
       "      <th>backhand_pred</th>\n",
       "      <th>foreslice_pred</th>\n",
       "      <th>backslice_pred</th>\n",
       "    </tr>\n",
       "  </thead>\n",
       "  <tbody>\n",
       "    <tr>\n",
       "      <th>idle_gt</th>\n",
       "      <td>94.175439</td>\n",
       "      <td>0.491228</td>\n",
       "      <td>1.403509</td>\n",
       "      <td>0.456140</td>\n",
       "      <td>3.473684</td>\n",
       "    </tr>\n",
       "    <tr>\n",
       "      <th>forehand_gt</th>\n",
       "      <td>21.153846</td>\n",
       "      <td>72.307692</td>\n",
       "      <td>0.000000</td>\n",
       "      <td>6.538462</td>\n",
       "      <td>0.000000</td>\n",
       "    </tr>\n",
       "    <tr>\n",
       "      <th>backhand_gt</th>\n",
       "      <td>11.813187</td>\n",
       "      <td>0.000000</td>\n",
       "      <td>88.186813</td>\n",
       "      <td>0.000000</td>\n",
       "      <td>0.000000</td>\n",
       "    </tr>\n",
       "    <tr>\n",
       "      <th>foreslice_gt</th>\n",
       "      <td>37.179487</td>\n",
       "      <td>5.128205</td>\n",
       "      <td>0.000000</td>\n",
       "      <td>57.692308</td>\n",
       "      <td>0.000000</td>\n",
       "    </tr>\n",
       "    <tr>\n",
       "      <th>backslice_gt</th>\n",
       "      <td>14.942529</td>\n",
       "      <td>0.000000</td>\n",
       "      <td>0.287356</td>\n",
       "      <td>0.000000</td>\n",
       "      <td>84.770115</td>\n",
       "    </tr>\n",
       "  </tbody>\n",
       "</table>\n",
       "</div>"
      ],
      "text/plain": [
       "              idle_pred  forehand_pred  backhand_pred  foreslice_pred  \\\n",
       "idle_gt       94.175439       0.491228       1.403509        0.456140   \n",
       "forehand_gt   21.153846      72.307692       0.000000        6.538462   \n",
       "backhand_gt   11.813187       0.000000      88.186813        0.000000   \n",
       "foreslice_gt  37.179487       5.128205       0.000000       57.692308   \n",
       "backslice_gt  14.942529       0.000000       0.287356        0.000000   \n",
       "\n",
       "              backslice_pred  \n",
       "idle_gt             3.473684  \n",
       "forehand_gt         0.000000  \n",
       "backhand_gt         0.000000  \n",
       "foreslice_gt        0.000000  \n",
       "backslice_gt       84.770115  "
      ]
     },
     "execution_count": 105,
     "metadata": {},
     "output_type": "execute_result"
    }
   ],
   "source": [
    "# Recall\n",
    "(confusion_matrix_df.T / confusion_matrix_df.sum(axis=1)).T * 100"
   ]
  },
  {
   "cell_type": "markdown",
   "metadata": {},
   "source": [
    "## feature importance"
   ]
  },
  {
   "cell_type": "code",
   "execution_count": 106,
   "metadata": {},
   "outputs": [
    {
     "data": {
      "text/plain": [
       "<matplotlib.axes._subplots.AxesSubplot at 0x1257adc88>"
      ]
     },
     "execution_count": 106,
     "metadata": {},
     "output_type": "execute_result"
    },
    {
     "data": {
      "image/png": "[encoded data removed]",
      "text/plain": [
       "<Figure size 432x288 with 1 Axes>"
      ]
     },
     "metadata": {
      "needs_background": "light"
     },
     "output_type": "display_data"
    }
   ],
   "source": [
    "lgb.plot_importance(gbm, max_num_features=20)"
   ]
  },
  {
   "cell_type": "code",
   "execution_count": null,
   "metadata": {},
   "outputs": [],
   "source": []
  },
  {
   "cell_type": "code",
   "execution_count": null,
   "metadata": {},
   "outputs": [],
   "source": []
  }
 ],
 "metadata": {
  "kernelspec": {
   "display_name": "Environment (conda_actrec)",
   "language": "python",
   "name": "conda_actrec"
  },
  "language_info": {
   "codemirror_mode": {
    "name": "ipython",
    "version": 3
   },
   "file_extension": ".py",
   "mimetype": "text/x-python",
   "name": "python",
   "nbconvert_exporter": "python",
   "pygments_lexer": "ipython3",
   "version": "3.6.5"
  },
  "toc": {
   "base_numbering": 1,
   "nav_menu": {},
   "number_sections": true,
   "sideBar": true,
   "skip_h1_title": false,
   "title_cell": "Table of Contents",
   "title_sidebar": "Contents",
   "toc_cell": false,
   "toc_position": {},
   "toc_section_display": true,
   "toc_window_display": false
  }
 },
 "nbformat": 4,
 "nbformat_minor": 2
}
