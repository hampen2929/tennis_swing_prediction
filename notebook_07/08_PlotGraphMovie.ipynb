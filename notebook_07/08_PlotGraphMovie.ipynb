{
 "cells": [
  {
   "cell_type": "markdown",
   "metadata": {},
   "source": [
    "# import"
   ]
  },
  {
   "cell_type": "code",
   "execution_count": 1,
   "metadata": {},
   "outputs": [],
   "source": [
    "import sys\n",
    "sys.path.append('../')"
   ]
  },
  {
   "cell_type": "code",
   "execution_count": 2,
   "metadata": {},
   "outputs": [
    {
     "name": "stderr",
     "output_type": "stream",
     "text": [
      "/Users/yuya/anaconda3/envs/actrec/lib/python3.6/site-packages/lightgbm/__init__.py:46: UserWarning: Starting from version 2.2.1, the library file in distribution wheels for macOS is built by the Apple Clang (Xcode_8.3.3) compiler.\n",
      "This means that in case of installing LightGBM from PyPI via the ``pip install lightgbm`` command, you don't need to install the gcc compiler anymore.\n",
      "Instead of that, you need to install the OpenMP library, which is required for running LightGBM on the system with the Apple Clang compiler.\n",
      "You can install the OpenMP library by the following command: ``brew install libomp``.\n",
      "  \"You can install the OpenMP library by the following command: ``brew install libomp``.\", UserWarning)\n"
     ]
    }
   ],
   "source": [
    "import os\n",
    "import cv2\n",
    "import pandas as pd\n",
    "import numpy as np\n",
    "import matplotlib\n",
    "matplotlib.use('Agg')\n",
    "import matplotlib.pyplot as plt\n",
    "from sklearn.model_selection import train_test_split\n",
    "import lightgbm as lgb\n",
    "import pickle\n",
    "\n",
    "from matplotlib.backends.backend_agg import FigureCanvasAgg\n",
    "from PIL import Image\n",
    "\n",
    "from pyvino.detector import DetectorHumanPose, DetectorBody\n",
    "from actrec.util import moving_average, flatten_data, generate_col_names"
   ]
  },
  {
   "cell_type": "markdown",
   "metadata": {},
   "source": [
    " # path"
   ]
  },
  {
   "cell_type": "markdown",
   "metadata": {},
   "source": [
    "#movie_files = ['forehand.MOV', 'backhand.MOV', 'foreslice.MOV', 'backslice.MOV', 'test.MOV']\n",
    "movie_files = ['forehand.mp4']"
   ]
  },
  {
   "cell_type": "code",
   "execution_count": 3,
   "metadata": {},
   "outputs": [],
   "source": [
    "path_movie_dir = '../data/movie/fps30_mask/'\n",
    "# path_movie_test_file = '../data/movie/test.MOV'"
   ]
  },
  {
   "cell_type": "code",
   "execution_count": 4,
   "metadata": {},
   "outputs": [
    {
     "data": {
      "text/plain": [
       "'07'"
      ]
     },
     "execution_count": 4,
     "metadata": {},
     "output_type": "execute_result"
    }
   ],
   "source": [
    "notebook_name = os.path.basename(os.getcwd())\n",
    "timestamp = notebook_name.split('_')[1]\n",
    "timestamp"
   ]
  },
  {
   "cell_type": "code",
   "execution_count": 5,
   "metadata": {},
   "outputs": [],
   "source": [
    "path_generated_movie_dir = os.path.join('../data/08_PlotGraphMovie/', timestamp)\n",
    "if not os.path.exists(path_generated_movie_dir):\n",
    "    os.makedirs(path_generated_movie_dir)\n",
    "path_save_file = os.path.join(path_generated_movie_dir, 'test_pred.mp4')"
   ]
  },
  {
   "cell_type": "code",
   "execution_count": 6,
   "metadata": {},
   "outputs": [],
   "source": [
    "path_label_name_file = '../data/labels/labels_num.csv'\n",
    "path_action_dir = os.path.join('../data/01_DataProcessing/', timestamp)\n",
    "path_point_dir = os.path.join('../data/02_GetPoints/', timestamp)\n",
    "path_split_dir = os.path.join('../data/04_Split/', timestamp)\n",
    "path_test_file_dir = os.path.join(path_split_dir, 'test')\n",
    "path_model_dir = os.path.join('../data/05_train/', timestamp)\n",
    "path_model_file = os.path.join(path_model_dir, 'model.pkl')\n",
    "path_pred_dir = os.path.join('../data/06_Evaluation/', timestamp)"
   ]
  },
  {
   "cell_type": "code",
   "execution_count": 33,
   "metadata": {},
   "outputs": [],
   "source": [
    "file_names = ['forehand', 'backhand', 'foreslice', 'backslice', 'test']\n",
    "# file_names = ['forehand']\n",
    "movie_names = [file_name + '.mp4' for file_name in file_names]\n",
    "points_file_names = [file_name + '.csv' for file_name in file_names]"
   ]
  },
  {
   "cell_type": "code",
   "execution_count": 34,
   "metadata": {},
   "outputs": [],
   "source": [
    "objective_rev_dict = pd.read_csv(path_label_name_file).to_dict()['action_gt_name']"
   ]
  },
  {
   "cell_type": "markdown",
   "metadata": {},
   "source": [
    "# model"
   ]
  },
  {
   "cell_type": "code",
   "execution_count": 35,
   "metadata": {},
   "outputs": [
    {
     "name": "stderr",
     "output_type": "stream",
     "text": [
      "2019-09-15 22:56:45,703 - pyvino.detector.detector - INFO - person-detection-retail-0013 on Darwin\n",
      "2019-09-15 22:56:45,704 - pyvino.detector.detector - INFO - The path to cpu_extension is /opt/intel/openvino/inference_engine/lib/intel64/libcpu_extension.dylib\n",
      "2019-09-15 22:56:46,126 - pyvino.detector.detector - INFO - human-pose-estimation-0001 on Darwin\n",
      "2019-09-15 22:56:46,127 - pyvino.detector.detector - INFO - The path to cpu_extension is /opt/intel/openvino/inference_engine/lib/intel64/libcpu_extension.dylib\n",
      "2019-09-15 22:56:46,398 - pyvino.detector.detector - INFO - person-detection-retail-0013 on Darwin\n",
      "2019-09-15 22:56:46,399 - pyvino.detector.detector - INFO - The path to cpu_extension is /opt/intel/openvino/inference_engine/lib/intel64/libcpu_extension.dylib\n"
     ]
    }
   ],
   "source": [
    "det_b = DetectorBody()\n",
    "det_h = DetectorHumanPose()"
   ]
  },
  {
   "cell_type": "markdown",
   "metadata": {},
   "source": [
    "# data"
   ]
  },
  {
   "cell_type": "markdown",
   "metadata": {},
   "source": [
    "# parameters"
   ]
  },
  {
   "cell_type": "code",
   "execution_count": 36,
   "metadata": {},
   "outputs": [],
   "source": [
    "frame_length = 15"
   ]
  },
  {
   "cell_type": "markdown",
   "metadata": {},
   "source": [
    "# process"
   ]
  },
  {
   "cell_type": "markdown",
   "metadata": {},
   "source": [
    "## moving average"
   ]
  },
  {
   "cell_type": "code",
   "execution_count": 37,
   "metadata": {},
   "outputs": [],
   "source": [
    "target_columns = ['RShoulder_x', 'RShoulder_y', 'RElbow_x', 'RElbow_y', 'RWrist_x', 'RWrist_y', \n",
    "                         'LShoulder_x', 'LShoulder_y', 'LElbow_x', 'LElbow_y', 'LWrist_x', 'LWrist_y']"
   ]
  },
  {
   "cell_type": "markdown",
   "metadata": {},
   "source": [
    "## モデル読み込み"
   ]
  },
  {
   "cell_type": "code",
   "execution_count": 38,
   "metadata": {},
   "outputs": [
    {
     "data": {
      "text/plain": [
       "'../data/05_train/07/model.pkl'"
      ]
     },
     "execution_count": 38,
     "metadata": {},
     "output_type": "execute_result"
    }
   ],
   "source": [
    "gbm = pickle.load(open(path_model_file, \"rb\"))\n",
    "path_model_file"
   ]
  },
  {
   "cell_type": "code",
   "execution_count": 39,
   "metadata": {},
   "outputs": [],
   "source": [
    "feature_name_list = gbm.feature_name()"
   ]
  },
  {
   "cell_type": "markdown",
   "metadata": {},
   "source": [
    "# 予測"
   ]
  },
  {
   "cell_type": "code",
   "execution_count": 40,
   "metadata": {},
   "outputs": [],
   "source": [
    "mat = np.zeros(len(target_columns))\n",
    "mat[:] = np.nan"
   ]
  },
  {
   "cell_type": "code",
   "execution_count": 68,
   "metadata": {},
   "outputs": [
    {
     "data": {
      "text/plain": [
       "'../data/movie/fps30_mask/foreslice.mp4'"
      ]
     },
     "execution_count": 68,
     "metadata": {},
     "output_type": "execute_result"
    }
   ],
   "source": [
    "num = 2\n",
    "file_name = file_names[num]\n",
    "movie_file = movie_names[num]\n",
    "path_movie_test_file = os.path.join(path_movie_dir, movie_file)\n",
    "path_movie_test_file"
   ]
  },
  {
   "cell_type": "code",
   "execution_count": 69,
   "metadata": {},
   "outputs": [
    {
     "data": {
      "text/plain": [
       "'../data/04_Split/07/test/foreslice.csv'"
      ]
     },
     "execution_count": 69,
     "metadata": {},
     "output_type": "execute_result"
    }
   ],
   "source": [
    "path_test_file = os.path.join(path_split_dir, 'test', file_name + '.csv')\n",
    "path_test_file"
   ]
  },
  {
   "cell_type": "code",
   "execution_count": 70,
   "metadata": {},
   "outputs": [],
   "source": [
    "objective = 'action_gt_num'\n",
    "index_col = 'frame_num'"
   ]
  },
  {
   "cell_type": "code",
   "execution_count": 71,
   "metadata": {},
   "outputs": [],
   "source": [
    "test_df = pd.read_csv(path_test_file, index_col=index_col).head()\n",
    "frame_num = min(test_df.index)"
   ]
  },
  {
   "cell_type": "markdown",
   "metadata": {},
   "source": [
    "- frame\n",
    "- pred norm pose and generate frame\n",
    "- preproce\n",
    "- pred action\n",
    "- draw result"
   ]
  },
  {
   "cell_type": "code",
   "execution_count": 72,
   "metadata": {},
   "outputs": [],
   "source": [
    "cap = cv2.VideoCapture(path_movie_test_file)\n",
    "# 幅\n",
    "width = int(cap.get(cv2.CAP_PROP_FRAME_WIDTH))\n",
    "# 高さ\n",
    "height = int(cap.get(cv2.CAP_PROP_FRAME_HEIGHT))\n",
    "# 総フレーム数\n",
    "count = int(cap.get(cv2.CAP_PROP_FRAME_COUNT))\n",
    "# fps\n",
    "fps = int(cap.get(cv2.CAP_PROP_FPS))\n",
    "\n",
    "canvas_org = np.zeros((height, width, 3), np.uint8)"
   ]
  },
  {
   "cell_type": "code",
   "execution_count": 73,
   "metadata": {},
   "outputs": [],
   "source": [
    "features = []\n",
    "for feature_name in feature_name_list:\n",
    "    feature = feature_name.split('_')[0]\n",
    "    features.append(feature)\n",
    "features = list(np.unique(features))"
   ]
  },
  {
   "cell_type": "code",
   "execution_count": 74,
   "metadata": {},
   "outputs": [
    {
     "data": {
      "text/plain": [
       "3300"
      ]
     },
     "execution_count": 74,
     "metadata": {},
     "output_type": "execute_result"
    }
   ],
   "source": [
    "test_df = pd.read_csv(path_test_file, index_col=index_col).head()\n",
    "frame_num = min(test_df.index)\n",
    "frame_num"
   ]
  },
  {
   "cell_type": "code",
   "execution_count": 75,
   "metadata": {},
   "outputs": [],
   "source": [
    "def queue(arr, arr_add):\n",
    "    dst = np.vstack([arr, arr_add])\n",
    "    dst = np.delete(dst, obj=0, axis=0)\n",
    "    return dst"
   ]
  },
  {
   "cell_type": "code",
   "execution_count": 76,
   "metadata": {},
   "outputs": [],
   "source": [
    "def queue_h(arr, arr_add):\n",
    "    dst = np.hstack([arr, arr_add])\n",
    "    dst = np.delete(dst, obj=0, axis=1)\n",
    "    return dst"
   ]
  },
  {
   "cell_type": "code",
   "execution_count": 77,
   "metadata": {},
   "outputs": [],
   "source": [
    "def plot_points(x, y, size=(12.8, 1)):\n",
    "    fig = plt.figure(facecolor=\"black\", figsize=size) #図の生成\n",
    "    ax = fig.add_subplot(1,1,1) #軸の指定\n",
    "    fig.tight_layout()\n",
    "    \n",
    "    fig.patch.set_facecolor('black')\n",
    "    ax.patch.set_facecolor('black')\n",
    "\n",
    "    plt.tick_params(labelbottom=False,\n",
    "                                labelleft=False,\n",
    "                                labelright=False,\n",
    "                                labeltop=False)\n",
    "\n",
    "    plt.tick_params(bottom=False,\n",
    "                                left=False,\n",
    "                                right=False,\n",
    "                                top=False)\n",
    "\n",
    "    plt.gca().spines['right'].set_visible(False)\n",
    "    plt.gca().spines['top'].set_visible(False)\n",
    "    plt.gca().spines['left'].set_visible(False)\n",
    "    plt.gca().spines['bottom'].set_visible(False)\n",
    "\n",
    "    ax.plot(x, y, c='pink') #データのプロット\n",
    "\n",
    "    # ax.set_title('Graph',fontsize=24) #グラフのタイトル\n",
    "    # ax.set_xlabel('x') #x軸の名前\n",
    "    # ax.set_ylabel('y') #y軸の名前\n",
    "\n",
    "    # ax.legend(loc='upper left', fontsize=20) #凡例の表示\n",
    "    \n",
    "    canvas = FigureCanvasAgg(fig)\n",
    "    s, (width, height) = canvas.print_to_buffer()\n",
    "    \n",
    "    image = np.fromstring(s, np.uint8).reshape((height, width, 4))\n",
    "    image = image[:,:,:3]\n",
    "    \n",
    "    return image"
   ]
  },
  {
   "cell_type": "code",
   "execution_count": 78,
   "metadata": {},
   "outputs": [],
   "source": [
    "t = np.arange(-75, 75)"
   ]
  },
  {
   "cell_type": "code",
   "execution_count": 79,
   "metadata": {},
   "outputs": [],
   "source": [
    "y = np.sin(t)"
   ]
  },
  {
   "cell_type": "code",
   "execution_count": 80,
   "metadata": {},
   "outputs": [
    {
     "name": "stderr",
     "output_type": "stream",
     "text": [
      "/Users/yuya/anaconda3/envs/actrec/lib/python3.6/site-packages/ipykernel/__main__.py:2: RuntimeWarning: More than 20 figures have been opened. Figures created through the pyplot interface (`matplotlib.pyplot.figure`) are retained until explicitly closed and may consume too much memory. (To control this warning, see the rcParam `figure.max_open_warning`).\n",
      "  from ipykernel import kernelapp as app\n",
      "/Users/yuya/anaconda3/envs/actrec/lib/python3.6/site-packages/ipykernel/__main__.py:35: DeprecationWarning: The binary mode of fromstring is deprecated, as it behaves surprisingly on unicode inputs. Use frombuffer instead\n"
     ]
    }
   ],
   "source": [
    "graph = plot_points(t, y)"
   ]
  },
  {
   "cell_type": "code",
   "execution_count": 81,
   "metadata": {},
   "outputs": [],
   "source": [
    "height_graph, width_graph, _ = graph.shape"
   ]
  },
  {
   "cell_type": "code",
   "execution_count": 82,
   "metadata": {},
   "outputs": [
    {
     "data": {
      "image/png": "[encoded data removed]",
      "text/plain": [
       "<PIL.Image.Image image mode=RGB size=1280x100 at 0x2D35CBEF0>"
      ]
     },
     "execution_count": 82,
     "metadata": {},
     "output_type": "execute_result"
    }
   ],
   "source": [
    "Image.fromarray(graph)"
   ]
  },
  {
   "cell_type": "code",
   "execution_count": 83,
   "metadata": {},
   "outputs": [],
   "source": [
    "movie_file_name = '{}.mp4'.format(file_name)"
   ]
  },
  {
   "cell_type": "code",
   "execution_count": 84,
   "metadata": {},
   "outputs": [],
   "source": [
    "color_codes = {'red' : (0,0,255),\n",
    "                           'green' : (0,255,0),\n",
    "                           'blue' : (255, 0,0),\n",
    "                           'orange' : (255,127,80),\n",
    "                           'skyblue' : (137,189,222)}\n",
    "\n",
    "action_color = {'idle': 'green', 'forehand': 'red', 'backhand': 'blue', 'foreslice': 'orange', 'backslice': 'skyblue'}"
   ]
  },
  {
   "cell_type": "code",
   "execution_count": 89,
   "metadata": {},
   "outputs": [
    {
     "data": {
      "text/plain": [
       "'../data/08_PlotGraphMovie/07'"
      ]
     },
     "execution_count": 89,
     "metadata": {},
     "output_type": "execute_result"
    }
   ],
   "source": [
    "path_generated_movie_dir"
   ]
  },
  {
   "cell_type": "code",
   "execution_count": 90,
   "metadata": {},
   "outputs": [
    {
     "name": "stdout",
     "output_type": "stream",
     "text": [
      "3300\n"
     ]
    },
    {
     "name": "stderr",
     "output_type": "stream",
     "text": [
      "/Users/yuya/anaconda3/envs/actrec/lib/python3.6/site-packages/ipykernel/__main__.py:2: RuntimeWarning: More than 20 figures have been opened. Figures created through the pyplot interface (`matplotlib.pyplot.figure`) are retained until explicitly closed and may consume too much memory. (To control this warning, see the rcParam `figure.max_open_warning`).\n",
      "  from ipykernel import kernelapp as app\n",
      "/Users/yuya/anaconda3/envs/actrec/lib/python3.6/site-packages/ipykernel/__main__.py:35: DeprecationWarning: The binary mode of fromstring is deprecated, as it behaves surprisingly on unicode inputs. Use frombuffer instead\n"
     ]
    },
    {
     "name": "stdout",
     "output_type": "stream",
     "text": [
      "3400\n",
      "3500\n",
      "3600\n",
      "3700\n",
      "3800\n",
      "3900\n",
      "4000\n",
      "4100\n"
     ]
    }
   ],
   "source": [
    "show=True\n",
    "width_movie = 1280\n",
    "height_movie = 720\n",
    "xmin_graph = int((width_movie - width_graph) / 2)\n",
    "xmax_graph = int(width_graph + (width_movie - width_graph) / 2)\n",
    "ymin_graph = int(height_movie - height_graph)\n",
    "ymax_graph = int(height_movie)\n",
    "\n",
    "fourcc = cv2.VideoWriter_fourcc(*\"H264\")\n",
    "video = cv2.VideoWriter(os.path.join(path_generated_movie_dir, movie_file_name), fourcc, fps, (width_movie, height_movie))\n",
    "\n",
    "# checker_df  = pd.DataFrame([], columns=feature_actions_df.columns)\n",
    "\n",
    "test_df = pd.read_csv(path_test_file, index_col=index_col).head()\n",
    "frame_num = min(test_df.index)\n",
    "frame_num\n",
    "\n",
    "window = 12\n",
    "min_periods = 1\n",
    "\n",
    "canvas_org = np.zeros((height, width, 3), np.uint8)\n",
    "\n",
    "cap = cv2.VideoCapture(path_movie_test_file)\n",
    "\n",
    "#####################\n",
    "points_multi = np.empty((18, 2))\n",
    "cap.set(cv2.CAP_PROP_POS_FRAMES, frame_num)\n",
    "points_flattens = np.zeros([30,len(target_columns)])\n",
    "points_flattens[:,:] = np.nan\n",
    "#####################\n",
    "\n",
    "#####################\n",
    "target_points = np.zeros([150, 2])\n",
    "target_points[:,:] = np.nan\n",
    "#####################\n",
    "\n",
    "poss = np.empty((0, 4))\n",
    "\n",
    "pred = True\n",
    "while True:\n",
    "    ret, frame = cap.read()\n",
    "    if not ret:\n",
    "        break\n",
    "    if frame_num % 100 == 0:\n",
    "        print(frame_num)\n",
    "    \n",
    "    frame = np.array(frame)\n",
    "    frame = cv2.resize(frame, (width_movie, height_movie))\n",
    "\n",
    "    ############################\n",
    "    results = det_h.compute(frame, frame_flag=True, pred_flag=True, normalize_flag=True)\n",
    "    frame = results['frame']\n",
    "    ############################\n",
    "\n",
    "    if len(results['preds']) == 0:\n",
    "        points_flattens = np.vstack([points_flattens, mat])\n",
    "        frame_num += 1\n",
    "        video.write(frame)\n",
    "        pred = False\n",
    "        continue\n",
    "\n",
    "    ############################\n",
    "    points_dets = results['preds']\n",
    "    new_area = 0\n",
    "    largets_bbox_num = 0\n",
    "    for num_det, points_det in points_dets.items():\n",
    "        xmin, ymin, xmax, ymax = points_det['bbox']\n",
    "        width = xmax - xmin\n",
    "        height = ymax - ymin\n",
    "        area = width * height\n",
    "        if area > new_area:\n",
    "            new_area = area\n",
    "            largets_bbox_num = num_det\n",
    "    ############################\n",
    "    \n",
    "    points = results['preds'][largets_bbox_num]['norm_points']\n",
    "    points = pd.DataFrame(points, index=det_h.BODY_PARTS, columns=['x', 'y'])\n",
    "    points = points.loc[features]\n",
    "    points_flatten = points.values.flatten()\n",
    "    points_flattens = queue(points_flattens, points_flatten)\n",
    "    points_df = pd.DataFrame(points_flattens, columns=target_columns)\n",
    "    # points_df = points_df.loc[:, target_columns]\n",
    "    \n",
    "    ############\n",
    "    target_point = points.loc['RShoulder'].values\n",
    "    target_points = queue(target_points, target_point)\n",
    "    graph = plot_points(t, target_points.T[0])\n",
    "    frame[ymin_graph:ymax_graph, xmin_graph:xmax_graph] = graph\n",
    "    ############\n",
    "    \n",
    "    \n",
    "    \n",
    "    #  flatten\n",
    "        \n",
    "    ######\n",
    "    # moving_average\n",
    "    \n",
    "    # frames to one columns\n",
    "    #data_df = points_df.values.flatten()\n",
    "    \n",
    "    feature_actions_df = flatten_data(points_df)\n",
    "    # sort features for model\n",
    "    feature_actions_df = feature_actions_df.loc[:, feature_name_list]\n",
    "    \n",
    "    #checker_df = pd.concat([checker_df, feature_actions_df], axis=0)\n",
    "    \n",
    "    #  print(feature_actions_df)\n",
    "    y_pred = gbm.predict(feature_actions_df, num_iteration=gbm.best_iteration)\n",
    "    y_pred = np.argmax(y_pred, axis=1)[0]\n",
    "    action_pred = objective_rev_dict[y_pred]\n",
    "    pred = True\n",
    "\n",
    "    ######    \n",
    "    \n",
    "    frame_num += 1\n",
    "            \n",
    "    cv2.rectangle(frame, (xmin, ymin), (xmax, ymax), (0, 255, 0), 2)\n",
    "\n",
    "    if pred:\n",
    "        action_color_code = color_codes[action_color[action_pred]]\n",
    "                \n",
    "        cv2.putText(frame, 'pred: ' + action_pred,\n",
    "                                (int(xmax), int(ymin - 10)),\n",
    "                                cv2.FONT_HERSHEY_SIMPLEX, 1.2, (255, 255, 255), 3, cv2.LINE_AA)\n",
    "        \n",
    "        cv2.putText(frame, 'pred: ' + action_pred,\n",
    "                                (int(xmax), int(ymin - 10)),\n",
    "                                cv2.FONT_HERSHEY_SIMPLEX, 1.2, action_color_code, 2, cv2.LINE_AA)\n",
    "\n",
    "    video.write(frame)\n",
    "    if show:\n",
    "        cv2.imshow('demo', frame)\n",
    "        if cv2.waitKey(1) & 0xFF == ord('q'):\n",
    "            break\n",
    "\n",
    "cap.release()\n",
    "cv2.destroyAllWindows()\n",
    "\n",
    "video.release()"
   ]
  },
  {
   "cell_type": "code",
   "execution_count": 91,
   "metadata": {},
   "outputs": [],
   "source": [
    "video.release()"
   ]
  },
  {
   "cell_type": "code",
   "execution_count": null,
   "metadata": {},
   "outputs": [],
   "source": []
  },
  {
   "cell_type": "code",
   "execution_count": null,
   "metadata": {},
   "outputs": [],
   "source": []
  },
  {
   "cell_type": "code",
   "execution_count": null,
   "metadata": {},
   "outputs": [],
   "source": []
  },
  {
   "cell_type": "code",
   "execution_count": 60,
   "metadata": {},
   "outputs": [
    {
     "data": {
      "text/plain": [
       "array([[       nan,        nan],\n",
       "       [       nan,        nan],\n",
       "       [       nan,        nan],\n",
       "       [       nan,        nan],\n",
       "       [       nan,        nan],\n",
       "       [       nan,        nan],\n",
       "       [       nan,        nan],\n",
       "       [       nan,        nan],\n",
       "       [       nan,        nan],\n",
       "       [       nan,        nan],\n",
       "       [       nan,        nan],\n",
       "       [       nan,        nan],\n",
       "       [       nan,        nan],\n",
       "       [       nan,        nan],\n",
       "       [       nan,        nan],\n",
       "       [       nan,        nan],\n",
       "       [       nan,        nan],\n",
       "       [       nan,        nan],\n",
       "       [       nan,        nan],\n",
       "       [       nan,        nan],\n",
       "       [       nan,        nan],\n",
       "       [       nan,        nan],\n",
       "       [       nan,        nan],\n",
       "       [       nan,        nan],\n",
       "       [       nan,        nan],\n",
       "       [       nan,        nan],\n",
       "       [       nan,        nan],\n",
       "       [       nan,        nan],\n",
       "       [       nan,        nan],\n",
       "       [       nan,        nan],\n",
       "       [       nan,        nan],\n",
       "       [       nan,        nan],\n",
       "       [       nan,        nan],\n",
       "       [       nan,        nan],\n",
       "       [       nan,        nan],\n",
       "       [       nan,        nan],\n",
       "       [       nan,        nan],\n",
       "       [       nan,        nan],\n",
       "       [       nan,        nan],\n",
       "       [       nan,        nan],\n",
       "       [       nan,        nan],\n",
       "       [       nan,        nan],\n",
       "       [       nan,        nan],\n",
       "       [       nan,        nan],\n",
       "       [       nan,        nan],\n",
       "       [       nan,        nan],\n",
       "       [       nan,        nan],\n",
       "       [       nan,        nan],\n",
       "       [       nan,        nan],\n",
       "       [       nan,        nan],\n",
       "       [       nan,        nan],\n",
       "       [       nan,        nan],\n",
       "       [       nan,        nan],\n",
       "       [       nan,        nan],\n",
       "       [       nan,        nan],\n",
       "       [       nan,        nan],\n",
       "       [       nan,        nan],\n",
       "       [       nan,        nan],\n",
       "       [       nan,        nan],\n",
       "       [       nan,        nan],\n",
       "       [       nan,        nan],\n",
       "       [       nan,        nan],\n",
       "       [       nan,        nan],\n",
       "       [       nan,        nan],\n",
       "       [       nan,        nan],\n",
       "       [       nan,        nan],\n",
       "       [       nan,        nan],\n",
       "       [       nan,        nan],\n",
       "       [       nan,        nan],\n",
       "       [       nan,        nan],\n",
       "       [       nan,        nan],\n",
       "       [       nan,        nan],\n",
       "       [       nan,        nan],\n",
       "       [       nan,        nan],\n",
       "       [       nan,        nan],\n",
       "       [       nan,        nan],\n",
       "       [       nan,        nan],\n",
       "       [       nan,        nan],\n",
       "       [       nan,        nan],\n",
       "       [       nan,        nan],\n",
       "       [       nan,        nan],\n",
       "       [       nan,        nan],\n",
       "       [       nan,        nan],\n",
       "       [       nan,        nan],\n",
       "       [       nan,        nan],\n",
       "       [       nan,        nan],\n",
       "       [       nan,        nan],\n",
       "       [       nan,        nan],\n",
       "       [       nan,        nan],\n",
       "       [       nan,        nan],\n",
       "       [       nan,        nan],\n",
       "       [       nan,        nan],\n",
       "       [       nan,        nan],\n",
       "       [       nan,        nan],\n",
       "       [       nan,        nan],\n",
       "       [       nan,        nan],\n",
       "       [       nan,        nan],\n",
       "       [       nan,        nan],\n",
       "       [       nan,        nan],\n",
       "       [       nan,        nan],\n",
       "       [       nan,        nan],\n",
       "       [       nan,        nan],\n",
       "       [       nan,        nan],\n",
       "       [       nan,        nan],\n",
       "       [       nan,        nan],\n",
       "       [       nan,        nan],\n",
       "       [       nan,        nan],\n",
       "       [       nan,        nan],\n",
       "       [       nan,        nan],\n",
       "       [       nan,        nan],\n",
       "       [       nan,        nan],\n",
       "       [       nan,        nan],\n",
       "       [       nan,        nan],\n",
       "       [       nan,        nan],\n",
       "       [       nan,        nan],\n",
       "       [       nan,        nan],\n",
       "       [       nan,        nan],\n",
       "       [       nan,        nan],\n",
       "       [       nan,        nan],\n",
       "       [       nan,        nan],\n",
       "       [       nan,        nan],\n",
       "       [       nan,        nan],\n",
       "       [       nan,        nan],\n",
       "       [       nan,        nan],\n",
       "       [       nan,        nan],\n",
       "       [       nan,        nan],\n",
       "       [       nan,        nan],\n",
       "       [       nan,        nan],\n",
       "       [       nan,        nan],\n",
       "       [       nan,        nan],\n",
       "       [       nan,        nan],\n",
       "       [       nan,        nan],\n",
       "       [       nan,        nan],\n",
       "       [       nan,        nan],\n",
       "       [       nan,        nan],\n",
       "       [       nan,        nan],\n",
       "       [       nan,        nan],\n",
       "       [       nan,        nan],\n",
       "       [       nan,        nan],\n",
       "       [       nan,        nan],\n",
       "       [       nan,        nan],\n",
       "       [       nan,        nan],\n",
       "       [       nan,        nan],\n",
       "       [       nan,        nan],\n",
       "       [       nan,        nan],\n",
       "       [       nan,        nan],\n",
       "       [       nan,        nan],\n",
       "       [       nan,        nan],\n",
       "       [       nan,        nan],\n",
       "       [0.08      , 0.11210762]])"
      ]
     },
     "execution_count": 60,
     "metadata": {},
     "output_type": "execute_result"
    }
   ],
   "source": [
    "target_points"
   ]
  },
  {
   "cell_type": "code",
   "execution_count": null,
   "metadata": {},
   "outputs": [],
   "source": []
  },
  {
   "cell_type": "code",
   "execution_count": null,
   "metadata": {},
   "outputs": [],
   "source": []
  },
  {
   "cell_type": "code",
   "execution_count": 105,
   "metadata": {},
   "outputs": [
    {
     "data": {
      "text/html": [
       "<div>\n",
       "<style scoped>\n",
       "    .dataframe tbody tr th:only-of-type {\n",
       "        vertical-align: middle;\n",
       "    }\n",
       "\n",
       "    .dataframe tbody tr th {\n",
       "        vertical-align: top;\n",
       "    }\n",
       "\n",
       "    .dataframe thead th {\n",
       "        text-align: right;\n",
       "    }\n",
       "</style>\n",
       "<table border=\"1\" class=\"dataframe\">\n",
       "  <thead>\n",
       "    <tr style=\"text-align: right;\">\n",
       "      <th></th>\n",
       "      <th>x</th>\n",
       "      <th>y</th>\n",
       "    </tr>\n",
       "  </thead>\n",
       "  <tbody>\n",
       "    <tr>\n",
       "      <th>LElbow</th>\n",
       "      <td>0.507576</td>\n",
       "      <td>0.252396</td>\n",
       "    </tr>\n",
       "    <tr>\n",
       "      <th>LShoulder</th>\n",
       "      <td>0.166667</td>\n",
       "      <td>0.108626</td>\n",
       "    </tr>\n",
       "    <tr>\n",
       "      <th>LWrist</th>\n",
       "      <td>0.674242</td>\n",
       "      <td>0.178914</td>\n",
       "    </tr>\n",
       "    <tr>\n",
       "      <th>RElbow</th>\n",
       "      <td>0.507576</td>\n",
       "      <td>0.322684</td>\n",
       "    </tr>\n",
       "    <tr>\n",
       "      <th>RShoulder</th>\n",
       "      <td>0.333333</td>\n",
       "      <td>0.178914</td>\n",
       "    </tr>\n",
       "    <tr>\n",
       "      <th>RWrist</th>\n",
       "      <td>0.848485</td>\n",
       "      <td>0.252396</td>\n",
       "    </tr>\n",
       "  </tbody>\n",
       "</table>\n",
       "</div>"
      ],
      "text/plain": [
       "                  x         y\n",
       "LElbow     0.507576  0.252396\n",
       "LShoulder  0.166667  0.108626\n",
       "LWrist     0.674242  0.178914\n",
       "RElbow     0.507576  0.322684\n",
       "RShoulder  0.333333  0.178914\n",
       "RWrist     0.848485  0.252396"
      ]
     },
     "execution_count": 105,
     "metadata": {},
     "output_type": "execute_result"
    }
   ],
   "source": [
    "points"
   ]
  },
  {
   "cell_type": "code",
   "execution_count": null,
   "metadata": {},
   "outputs": [],
   "source": []
  },
  {
   "cell_type": "code",
   "execution_count": null,
   "metadata": {},
   "outputs": [],
   "source": []
  },
  {
   "cell_type": "code",
   "execution_count": null,
   "metadata": {},
   "outputs": [],
   "source": []
  },
  {
   "cell_type": "code",
   "execution_count": null,
   "metadata": {},
   "outputs": [],
   "source": []
  },
  {
   "cell_type": "code",
   "execution_count": null,
   "metadata": {},
   "outputs": [],
   "source": []
  },
  {
   "cell_type": "code",
   "execution_count": 90,
   "metadata": {},
   "outputs": [
    {
     "data": {
      "text/plain": [
       "array([[       nan,        nan,        nan, ...,        nan,        nan,\n",
       "               nan],\n",
       "       [       nan,        nan,        nan, ...,        nan,        nan,\n",
       "               nan],\n",
       "       [       nan,        nan,        nan, ...,        nan,        nan,\n",
       "               nan],\n",
       "       ...,\n",
       "       [       nan,        nan,        nan, ...,        nan,        nan,\n",
       "               nan],\n",
       "       [       nan,        nan,        nan, ...,        nan,        nan,\n",
       "               nan],\n",
       "       [0.50757576, 0.25239617, 0.16666667, ..., 0.17891374, 0.84848485,\n",
       "        0.25239617]])"
      ]
     },
     "execution_count": 90,
     "metadata": {},
     "output_type": "execute_result"
    }
   ],
   "source": [
    "np.vstack([target_points, points_flatten])"
   ]
  },
  {
   "cell_type": "code",
   "execution_count": null,
   "metadata": {},
   "outputs": [],
   "source": []
  },
  {
   "cell_type": "code",
   "execution_count": null,
   "metadata": {},
   "outputs": [],
   "source": []
  },
  {
   "cell_type": "code",
   "execution_count": null,
   "metadata": {},
   "outputs": [],
   "source": []
  },
  {
   "cell_type": "code",
   "execution_count": null,
   "metadata": {},
   "outputs": [],
   "source": []
  },
  {
   "cell_type": "code",
   "execution_count": 86,
   "metadata": {},
   "outputs": [
    {
     "data": {
      "text/plain": [
       "(150, 12)"
      ]
     },
     "execution_count": 86,
     "metadata": {},
     "output_type": "execute_result"
    }
   ],
   "source": [
    "target_points.shape"
   ]
  },
  {
   "cell_type": "code",
   "execution_count": null,
   "metadata": {},
   "outputs": [],
   "source": []
  },
  {
   "cell_type": "code",
   "execution_count": 87,
   "metadata": {},
   "outputs": [
    {
     "data": {
      "text/plain": [
       "(12, 1)"
      ]
     },
     "execution_count": 87,
     "metadata": {},
     "output_type": "execute_result"
    }
   ],
   "source": [
    "points_flatten.reshape((12,1)).shape"
   ]
  },
  {
   "cell_type": "code",
   "execution_count": 74,
   "metadata": {},
   "outputs": [
    {
     "data": {
      "text/plain": [
       "array([[nan, nan, nan, ..., nan, nan, nan],\n",
       "       [nan, nan, nan, ..., nan, nan, nan],\n",
       "       [nan, nan, nan, ..., nan, nan, nan],\n",
       "       ...,\n",
       "       [nan, nan, nan, ..., nan, nan, nan],\n",
       "       [nan, nan, nan, ..., nan, nan, nan],\n",
       "       [nan, nan, nan, ..., nan, nan, nan]])"
      ]
     },
     "execution_count": 74,
     "metadata": {},
     "output_type": "execute_result"
    }
   ],
   "source": [
    "target_points"
   ]
  },
  {
   "cell_type": "code",
   "execution_count": null,
   "metadata": {},
   "outputs": [],
   "source": []
  },
  {
   "cell_type": "code",
   "execution_count": 66,
   "metadata": {},
   "outputs": [
    {
     "data": {
      "text/plain": [
       "(150, 12)"
      ]
     },
     "execution_count": 66,
     "metadata": {},
     "output_type": "execute_result"
    }
   ],
   "source": [
    "target_points.shape"
   ]
  },
  {
   "cell_type": "code",
   "execution_count": null,
   "metadata": {},
   "outputs": [],
   "source": []
  },
  {
   "cell_type": "code",
   "execution_count": null,
   "metadata": {},
   "outputs": [],
   "source": []
  },
  {
   "cell_type": "code",
   "execution_count": null,
   "metadata": {},
   "outputs": [],
   "source": []
  },
  {
   "cell_type": "code",
   "execution_count": 62,
   "metadata": {},
   "outputs": [
    {
     "data": {
      "text/plain": [
       "(179, 12)"
      ]
     },
     "execution_count": 62,
     "metadata": {},
     "output_type": "execute_result"
    }
   ],
   "source": [
    "target_points.shape"
   ]
  },
  {
   "cell_type": "code",
   "execution_count": null,
   "metadata": {},
   "outputs": [],
   "source": []
  },
  {
   "cell_type": "code",
   "execution_count": null,
   "metadata": {},
   "outputs": [],
   "source": []
  }
 ],
 "metadata": {
  "kernelspec": {
   "display_name": "Environment (conda_actrec)",
   "language": "python",
   "name": "conda_actrec"
  },
  "language_info": {
   "codemirror_mode": {
    "name": "ipython",
    "version": 3
   },
   "file_extension": ".py",
   "mimetype": "text/x-python",
   "name": "python",
   "nbconvert_exporter": "python",
   "pygments_lexer": "ipython3",
   "version": "3.6.5"
  },
  "toc": {
   "base_numbering": 1,
   "nav_menu": {},
   "number_sections": true,
   "sideBar": true,
   "skip_h1_title": false,
   "title_cell": "Table of Contents",
   "title_sidebar": "Contents",
   "toc_cell": false,
   "toc_position": {},
   "toc_section_display": true,
   "toc_window_display": true
  }
 },
 "nbformat": 4,
 "nbformat_minor": 2
}
