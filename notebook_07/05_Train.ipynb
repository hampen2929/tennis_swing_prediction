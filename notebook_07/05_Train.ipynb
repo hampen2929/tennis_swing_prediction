{
 "cells": [
  {
   "cell_type": "markdown",
   "metadata": {},
   "source": [
    "# import"
   ]
  },
  {
   "cell_type": "code",
   "execution_count": 61,
   "metadata": {},
   "outputs": [],
   "source": [
    "import os\n",
    "import pandas as pd\n",
    "import numpy as np\n",
    "import matplotlib.pyplot as plt\n",
    "from sklearn.model_selection import train_test_split\n",
    "import lightgbm as lgb\n",
    "#import xgboost as xgb\n",
    "import pickle\n",
    "from pyvino.detector.detector import DetectorHumanPose\n",
    "import sys\n",
    "sys.path.append('..')\n",
    "from actrec.util import *"
   ]
  },
  {
   "cell_type": "markdown",
   "metadata": {},
   "source": [
    "import matplotlib as mpl"
   ]
  },
  {
   "cell_type": "markdown",
   "metadata": {},
   "source": [
    " # path"
   ]
  },
  {
   "cell_type": "code",
   "execution_count": 62,
   "metadata": {},
   "outputs": [
    {
     "data": {
      "text/plain": [
       "'07'"
      ]
     },
     "execution_count": 62,
     "metadata": {},
     "output_type": "execute_result"
    }
   ],
   "source": [
    "notebook_name = os.path.basename(os.getcwd())\n",
    "timestamp = notebook_name.split('_')[1]\n",
    "timestamp"
   ]
  },
  {
   "cell_type": "code",
   "execution_count": 63,
   "metadata": {},
   "outputs": [],
   "source": [
    "path_movie_dir = '../data/movie/fps30_mask/'\n",
    "path_save_dir = os.path.join('../data/05_Train/', timestamp)\n",
    "if not os.path.exists(path_save_dir):\n",
    "    os.makedirs(path_save_dir)\n",
    "path_train_file = os.path.join(path_save_dir, 'train.csv')\n",
    "path_model_file = os.path.join(path_save_dir, 'model.pkl')"
   ]
  },
  {
   "cell_type": "code",
   "execution_count": 64,
   "metadata": {},
   "outputs": [],
   "source": [
    "path_label_name_file = '../data/labels/labels_num.csv'\n",
    "path_action_dir = os.path.join('../data/01_DataProcessing/', timestamp)\n",
    "path_point_dir = os.path.join('../data/02_GetPoints/', timestamp)\n",
    "path_split_dir = os.path.join('../data/04_Split/', timestamp)\n",
    "\n",
    "path_train_file_dir = os.path.join(path_split_dir, 'train')\n",
    "path_test_file_dir = os.path.join(path_split_dir, 'test')\n",
    "# path_model_dir = '../data/05_train/'"
   ]
  },
  {
   "cell_type": "code",
   "execution_count": 65,
   "metadata": {},
   "outputs": [],
   "source": [
    "file_names = ['forehand', 'backhand', 'foreslice', 'backslice']\n",
    "# file_names = ['forehand']\n",
    "movie_names = [file_name + '.mp4' for file_name in file_names]\n",
    "points_file_names = [file_name + '.csv' for file_name in file_names]"
   ]
  },
  {
   "cell_type": "markdown",
   "metadata": {},
   "source": [
    "# data"
   ]
  },
  {
   "cell_type": "code",
   "execution_count": 66,
   "metadata": {},
   "outputs": [],
   "source": [
    "objective = 'action_gt_num'"
   ]
  },
  {
   "cell_type": "markdown",
   "metadata": {},
   "source": [
    "# データ加工"
   ]
  },
  {
   "cell_type": "markdown",
   "metadata": {},
   "source": [
    "## moving average"
   ]
  },
  {
   "cell_type": "code",
   "execution_count": 67,
   "metadata": {},
   "outputs": [],
   "source": [
    "features = ['RShoulder',  'RElbow',  'RWrist',\n",
    "            'LShoulder',  'LElbow',  'LWrist']"
   ]
  },
  {
   "cell_type": "code",
   "execution_count": 68,
   "metadata": {},
   "outputs": [],
   "source": [
    "target_columns = []\n",
    "for feature in features:\n",
    "    target_columns.append(feature + '_x')\n",
    "    target_columns.append(feature + '_y')"
   ]
  },
  {
   "cell_type": "markdown",
   "metadata": {},
   "source": [
    "target_columns = ['RShoulder_x', 'RShoulder_y', 'RElbow_x', 'RElbow_y', 'RWrist_x', 'RWrist_y', \n",
    "                         'LShoulder_x', 'LShoulder_y', 'LElbow_x', 'LElbow_y', 'LWrist_x', 'LWrist_y']"
   ]
  },
  {
   "cell_type": "markdown",
   "metadata": {},
   "source": [
    "## 30 frames as one data"
   ]
  },
  {
   "cell_type": "code",
   "execution_count": 69,
   "metadata": {},
   "outputs": [],
   "source": [
    "num = 0\n",
    "path_file = os.path.join(path_train_file_dir, points_file_names[num])\n",
    "data_df = pd.read_csv(path_file, index_col='frame_num')\n",
    "# data_df = pd.read_csv(path_file, index_col='frame_num')"
   ]
  },
  {
   "cell_type": "code",
   "execution_count": 70,
   "metadata": {},
   "outputs": [],
   "source": [
    "frame_length = 15\n",
    "X = data_df.drop(columns=[objective])\n",
    "one_hot_columns_name = generate_col_names(X)"
   ]
  },
  {
   "cell_type": "code",
   "execution_count": 71,
   "metadata": {},
   "outputs": [
    {
     "data": {
      "text/plain": [
       "'forehand.csv'"
      ]
     },
     "execution_count": 71,
     "metadata": {},
     "output_type": "execute_result"
    }
   ],
   "source": [
    "points_file_names[0]"
   ]
  },
  {
   "cell_type": "code",
   "execution_count": 72,
   "metadata": {},
   "outputs": [],
   "source": [
    "points_file_name = points_file_names[0]\n",
    "path_file = os.path.join(path_train_file_dir, points_file_name)\n",
    "data_df = pd.read_csv(path_file, index_col='frame_num')"
   ]
  },
  {
   "cell_type": "code",
   "execution_count": 73,
   "metadata": {},
   "outputs": [],
   "source": [
    "col_names = generate_col_names(X)"
   ]
  },
  {
   "cell_type": "code",
   "execution_count": 74,
   "metadata": {},
   "outputs": [
    {
     "name": "stdout",
     "output_type": "stream",
     "text": [
      "forehand.csv\n",
      "backhand.csv\n",
      "foreslice.csv\n",
      "backslice.csv\n"
     ]
    }
   ],
   "source": [
    "units_df = None\n",
    "new_data_df = None\n",
    "for num, points_file_name in enumerate(points_file_names):\n",
    "    print(points_file_name)\n",
    "    path_file = os.path.join(path_train_file_dir, points_file_name)\n",
    "    data_df = pd.read_csv(path_file, index_col='frame_num')\n",
    "    units_df = None\n",
    "    for idx in data_df.index[frame_length:len(data_df)]:\n",
    "        unit_df = data_df[idx - frame_length: idx]\n",
    "        y = unit_df[objective]\n",
    "        X = unit_df.drop(columns=[objective]).loc[:, target_columns]\n",
    "        unit_df = flatten_data(X, y, objective)\n",
    "        if units_df is None:\n",
    "            units_df = unit_df\n",
    "        else:\n",
    "            units_df = pd.concat([units_df, unit_df], axis=0, sort=False)\n",
    "    path_save_file = os.path.join(path_save_dir, points_file_name)\n",
    "    units_df.to_csv(path_save_file)\n",
    "    if new_data_df is None:\n",
    "        new_data_df = units_df\n",
    "    else:\n",
    "        new_data_df = pd.concat([new_data_df, units_df], axis=0, sort=False)\n",
    "train_data_df = new_data_df.copy()\n",
    "train_data_df.to_csv(path_train_file)"
   ]
  },
  {
   "cell_type": "code",
   "execution_count": 75,
   "metadata": {},
   "outputs": [],
   "source": [
    "train_data_df = new_data_df.copy()"
   ]
  },
  {
   "cell_type": "code",
   "execution_count": 76,
   "metadata": {},
   "outputs": [
    {
     "data": {
      "text/html": [
       "<div>\n",
       "<style scoped>\n",
       "    .dataframe tbody tr th:only-of-type {\n",
       "        vertical-align: middle;\n",
       "    }\n",
       "\n",
       "    .dataframe tbody tr th {\n",
       "        vertical-align: top;\n",
       "    }\n",
       "\n",
       "    .dataframe thead th {\n",
       "        text-align: right;\n",
       "    }\n",
       "</style>\n",
       "<table border=\"1\" class=\"dataframe\">\n",
       "  <thead>\n",
       "    <tr style=\"text-align: right;\">\n",
       "      <th></th>\n",
       "      <th>RShoulder_x_-14</th>\n",
       "      <th>RShoulder_y_-14</th>\n",
       "      <th>RElbow_x_-14</th>\n",
       "      <th>RElbow_y_-14</th>\n",
       "      <th>RWrist_x_-14</th>\n",
       "      <th>RWrist_y_-14</th>\n",
       "      <th>LShoulder_x_-14</th>\n",
       "      <th>LShoulder_y_-14</th>\n",
       "      <th>LElbow_x_-14</th>\n",
       "      <th>LElbow_y_-14</th>\n",
       "      <th>...</th>\n",
       "      <th>RElbow_x_0</th>\n",
       "      <th>RElbow_y_0</th>\n",
       "      <th>RWrist_x_0</th>\n",
       "      <th>RWrist_y_0</th>\n",
       "      <th>LShoulder_x_0</th>\n",
       "      <th>LShoulder_y_0</th>\n",
       "      <th>LElbow_x_0</th>\n",
       "      <th>LElbow_y_0</th>\n",
       "      <th>LWrist_x_0</th>\n",
       "      <th>LWrist_y_0</th>\n",
       "    </tr>\n",
       "    <tr>\n",
       "      <th>action_gt_num</th>\n",
       "      <th></th>\n",
       "      <th></th>\n",
       "      <th></th>\n",
       "      <th></th>\n",
       "      <th></th>\n",
       "      <th></th>\n",
       "      <th></th>\n",
       "      <th></th>\n",
       "      <th></th>\n",
       "      <th></th>\n",
       "      <th></th>\n",
       "      <th></th>\n",
       "      <th></th>\n",
       "      <th></th>\n",
       "      <th></th>\n",
       "      <th></th>\n",
       "      <th></th>\n",
       "      <th></th>\n",
       "      <th></th>\n",
       "      <th></th>\n",
       "      <th></th>\n",
       "    </tr>\n",
       "  </thead>\n",
       "  <tbody>\n",
       "    <tr>\n",
       "      <th>0</th>\n",
       "      <td>9656</td>\n",
       "      <td>9656</td>\n",
       "      <td>9204</td>\n",
       "      <td>9204</td>\n",
       "      <td>8277</td>\n",
       "      <td>8277</td>\n",
       "      <td>9451</td>\n",
       "      <td>9451</td>\n",
       "      <td>7522</td>\n",
       "      <td>7522</td>\n",
       "      <td>...</td>\n",
       "      <td>9266</td>\n",
       "      <td>9266</td>\n",
       "      <td>8509</td>\n",
       "      <td>8509</td>\n",
       "      <td>9461</td>\n",
       "      <td>9461</td>\n",
       "      <td>8029</td>\n",
       "      <td>8029</td>\n",
       "      <td>7623</td>\n",
       "      <td>7623</td>\n",
       "    </tr>\n",
       "    <tr>\n",
       "      <th>1</th>\n",
       "      <td>1482</td>\n",
       "      <td>1482</td>\n",
       "      <td>1473</td>\n",
       "      <td>1473</td>\n",
       "      <td>1478</td>\n",
       "      <td>1478</td>\n",
       "      <td>1452</td>\n",
       "      <td>1452</td>\n",
       "      <td>1381</td>\n",
       "      <td>1381</td>\n",
       "      <td>...</td>\n",
       "      <td>1404</td>\n",
       "      <td>1404</td>\n",
       "      <td>1266</td>\n",
       "      <td>1266</td>\n",
       "      <td>1480</td>\n",
       "      <td>1480</td>\n",
       "      <td>1282</td>\n",
       "      <td>1282</td>\n",
       "      <td>1281</td>\n",
       "      <td>1281</td>\n",
       "    </tr>\n",
       "    <tr>\n",
       "      <th>2</th>\n",
       "      <td>1419</td>\n",
       "      <td>1419</td>\n",
       "      <td>1357</td>\n",
       "      <td>1357</td>\n",
       "      <td>1111</td>\n",
       "      <td>1111</td>\n",
       "      <td>1420</td>\n",
       "      <td>1420</td>\n",
       "      <td>1409</td>\n",
       "      <td>1409</td>\n",
       "      <td>...</td>\n",
       "      <td>1373</td>\n",
       "      <td>1373</td>\n",
       "      <td>1129</td>\n",
       "      <td>1129</td>\n",
       "      <td>1386</td>\n",
       "      <td>1386</td>\n",
       "      <td>1133</td>\n",
       "      <td>1133</td>\n",
       "      <td>1076</td>\n",
       "      <td>1076</td>\n",
       "    </tr>\n",
       "    <tr>\n",
       "      <th>3</th>\n",
       "      <td>1114</td>\n",
       "      <td>1114</td>\n",
       "      <td>1104</td>\n",
       "      <td>1104</td>\n",
       "      <td>1111</td>\n",
       "      <td>1111</td>\n",
       "      <td>1085</td>\n",
       "      <td>1085</td>\n",
       "      <td>905</td>\n",
       "      <td>905</td>\n",
       "      <td>...</td>\n",
       "      <td>1082</td>\n",
       "      <td>1082</td>\n",
       "      <td>1077</td>\n",
       "      <td>1077</td>\n",
       "      <td>1111</td>\n",
       "      <td>1111</td>\n",
       "      <td>816</td>\n",
       "      <td>816</td>\n",
       "      <td>887</td>\n",
       "      <td>887</td>\n",
       "    </tr>\n",
       "    <tr>\n",
       "      <th>4</th>\n",
       "      <td>814</td>\n",
       "      <td>814</td>\n",
       "      <td>719</td>\n",
       "      <td>719</td>\n",
       "      <td>582</td>\n",
       "      <td>582</td>\n",
       "      <td>834</td>\n",
       "      <td>834</td>\n",
       "      <td>818</td>\n",
       "      <td>818</td>\n",
       "      <td>...</td>\n",
       "      <td>766</td>\n",
       "      <td>766</td>\n",
       "      <td>608</td>\n",
       "      <td>608</td>\n",
       "      <td>845</td>\n",
       "      <td>845</td>\n",
       "      <td>821</td>\n",
       "      <td>821</td>\n",
       "      <td>722</td>\n",
       "      <td>722</td>\n",
       "    </tr>\n",
       "  </tbody>\n",
       "</table>\n",
       "<p>5 rows × 180 columns</p>\n",
       "</div>"
      ],
      "text/plain": [
       "               RShoulder_x_-14  RShoulder_y_-14  RElbow_x_-14  RElbow_y_-14  \\\n",
       "action_gt_num                                                                 \n",
       "0                         9656             9656          9204          9204   \n",
       "1                         1482             1482          1473          1473   \n",
       "2                         1419             1419          1357          1357   \n",
       "3                         1114             1114          1104          1104   \n",
       "4                          814              814           719           719   \n",
       "\n",
       "               RWrist_x_-14  RWrist_y_-14  LShoulder_x_-14  LShoulder_y_-14  \\\n",
       "action_gt_num                                                                 \n",
       "0                      8277          8277             9451             9451   \n",
       "1                      1478          1478             1452             1452   \n",
       "2                      1111          1111             1420             1420   \n",
       "3                      1111          1111             1085             1085   \n",
       "4                       582           582              834              834   \n",
       "\n",
       "               LElbow_x_-14  LElbow_y_-14  ...  RElbow_x_0  RElbow_y_0  \\\n",
       "action_gt_num                              ...                           \n",
       "0                      7522          7522  ...        9266        9266   \n",
       "1                      1381          1381  ...        1404        1404   \n",
       "2                      1409          1409  ...        1373        1373   \n",
       "3                       905           905  ...        1082        1082   \n",
       "4                       818           818  ...         766         766   \n",
       "\n",
       "               RWrist_x_0  RWrist_y_0  LShoulder_x_0  LShoulder_y_0  \\\n",
       "action_gt_num                                                         \n",
       "0                    8509        8509           9461           9461   \n",
       "1                    1266        1266           1480           1480   \n",
       "2                    1129        1129           1386           1386   \n",
       "3                    1077        1077           1111           1111   \n",
       "4                     608         608            845            845   \n",
       "\n",
       "               LElbow_x_0  LElbow_y_0  LWrist_x_0  LWrist_y_0  \n",
       "action_gt_num                                                  \n",
       "0                    8029        8029        7623        7623  \n",
       "1                    1282        1282        1281        1281  \n",
       "2                    1133        1133        1076        1076  \n",
       "3                     816         816         887         887  \n",
       "4                     821         821         722         722  \n",
       "\n",
       "[5 rows x 180 columns]"
      ]
     },
     "execution_count": 76,
     "metadata": {},
     "output_type": "execute_result"
    }
   ],
   "source": [
    "train_data_df.groupby('action_gt_num').count()"
   ]
  },
  {
   "cell_type": "markdown",
   "metadata": {},
   "source": [
    "## 学習データ"
   ]
  },
  {
   "cell_type": "code",
   "execution_count": 77,
   "metadata": {},
   "outputs": [],
   "source": [
    "# remove backhand\n",
    "# train_data_df = train_data_df[train_data_df['action_gt_num']!=2]"
   ]
  },
  {
   "cell_type": "code",
   "execution_count": 78,
   "metadata": {},
   "outputs": [],
   "source": [
    "X_train_data_df = train_data_df.drop([objective], axis=1)\n",
    "y_train_data_df = train_data_df[objective]"
   ]
  },
  {
   "cell_type": "code",
   "execution_count": 95,
   "metadata": {},
   "outputs": [
    {
     "data": {
      "text/plain": [
       "action_gt_num\n",
       "0    11384\n",
       "1     1482\n",
       "2     1430\n",
       "3     1118\n",
       "4      988\n",
       "Name: dummy, dtype: int64"
      ]
     },
     "execution_count": 95,
     "metadata": {},
     "output_type": "execute_result"
    }
   ],
   "source": [
    "train_data_df['dummy'] = 1\n",
    "train_data_df.groupby(objective).count()['dummy']"
   ]
  },
  {
   "cell_type": "markdown",
   "metadata": {},
   "source": [
    "## data for lgb"
   ]
  },
  {
   "cell_type": "code",
   "execution_count": 79,
   "metadata": {},
   "outputs": [],
   "source": [
    "lgb_train = lgb.Dataset(X_train_data_df, y_train_data_df)"
   ]
  },
  {
   "cell_type": "markdown",
   "metadata": {},
   "source": [
    "# 学習"
   ]
  },
  {
   "cell_type": "code",
   "execution_count": 80,
   "metadata": {},
   "outputs": [],
   "source": [
    "params = {\n",
    "        'task': 'train',\n",
    "        'boosting_type': 'gbdt',\n",
    "        'objective': 'multiclass',\n",
    "        'metric': {'multi_logloss'},\n",
    "        'num_class': 5,\n",
    "        'learning_rate': 0.01,\n",
    "        'num_leaves': 64,\n",
    "        'min_data_in_leaf': 1,\n",
    "        'num_iteration': 1000,\n",
    "        'early_stopping_rounds': 50,\n",
    "        'verbose': 1,\n",
    "        'num_threads': 4\n",
    "}"
   ]
  },
  {
   "cell_type": "code",
   "execution_count": 81,
   "metadata": {},
   "outputs": [
    {
     "name": "stderr",
     "output_type": "stream",
     "text": [
      "/Users/yuya/anaconda3/envs/actrec/lib/python3.6/site-packages/lightgbm/engine.py:430: UserWarning: Found `num_iteration` in params. Will use it instead of argument\n",
      "  warnings.warn(\"Found `{}` in params. Will use it instead of argument\".format(alias))\n",
      "/Users/yuya/anaconda3/envs/actrec/lib/python3.6/site-packages/lightgbm/engine.py:435: UserWarning: Found `early_stopping_rounds` in params. Will use it instead of argument\n",
      "  warnings.warn(\"Found `{}` in params. Will use it instead of argument\".format(alias))\n"
     ]
    }
   ],
   "source": [
    "cv_results = lgb.cv(params, lgb_train, nfold=4)\n",
    "cv_logloss = cv_results['multi_logloss-mean']\n",
    "round_n = np.arange(len(cv_logloss))"
   ]
  },
  {
   "cell_type": "code",
   "execution_count": 82,
   "metadata": {},
   "outputs": [
    {
     "data": {
      "image/png": "[encoded data removed]",
      "text/plain": [
       "<Figure size 432x288 with 1 Axes>"
      ]
     },
     "metadata": {
      "needs_background": "light"
     },
     "output_type": "display_data"
    }
   ],
   "source": [
    "plt.xlabel('round')\n",
    "plt.ylabel('logloss')\n",
    "plt.plot(round_n, cv_logloss)\n",
    "plt.show()"
   ]
  },
  {
   "cell_type": "code",
   "execution_count": 83,
   "metadata": {},
   "outputs": [
    {
     "name": "stdout",
     "output_type": "stream",
     "text": [
      "973\n"
     ]
    }
   ],
   "source": [
    "params.pop('early_stopping_rounds')\n",
    "best_num_round = np.argmin(cv_logloss)\n",
    "params['num_iteration'] = best_num_round\n",
    "print(best_num_round)"
   ]
  },
  {
   "cell_type": "code",
   "execution_count": 84,
   "metadata": {},
   "outputs": [
    {
     "name": "stderr",
     "output_type": "stream",
     "text": [
      "/Users/yuya/anaconda3/envs/actrec/lib/python3.6/site-packages/lightgbm/engine.py:118: UserWarning: Found `num_iteration` in params. Will use it instead of argument\n",
      "  warnings.warn(\"Found `{}` in params. Will use it instead of argument\".format(alias))\n"
     ]
    }
   ],
   "source": [
    "gbm = lgb.train(params, lgb_train)"
   ]
  },
  {
   "cell_type": "markdown",
   "metadata": {},
   "source": [
    "## モデル保存"
   ]
  },
  {
   "cell_type": "code",
   "execution_count": 85,
   "metadata": {},
   "outputs": [],
   "source": [
    "path_model_file = os.path.join(path_save_dir, 'model.pkl')"
   ]
  },
  {
   "cell_type": "code",
   "execution_count": 86,
   "metadata": {},
   "outputs": [],
   "source": [
    "pickle.dump(gbm, open(path_model_file, \"wb\"))"
   ]
  },
  {
   "cell_type": "markdown",
   "metadata": {},
   "source": [
    "## モデル読み込み"
   ]
  },
  {
   "cell_type": "code",
   "execution_count": 87,
   "metadata": {},
   "outputs": [],
   "source": [
    "gbm = pickle.load(open(path_model_file, \"rb\"))"
   ]
  },
  {
   "cell_type": "code",
   "execution_count": 88,
   "metadata": {},
   "outputs": [],
   "source": [
    "feature_name_list = gbm.feature_name()"
   ]
  },
  {
   "cell_type": "code",
   "execution_count": null,
   "metadata": {},
   "outputs": [],
   "source": []
  }
 ],
 "metadata": {
  "kernelspec": {
   "display_name": "Environment (conda_actrec)",
   "language": "python",
   "name": "conda_actrec"
  },
  "language_info": {
   "codemirror_mode": {
    "name": "ipython",
    "version": 3
   },
   "file_extension": ".py",
   "mimetype": "text/x-python",
   "name": "python",
   "nbconvert_exporter": "python",
   "pygments_lexer": "ipython3",
   "version": "3.6.5"
  },
  "toc": {
   "base_numbering": 1,
   "nav_menu": {},
   "number_sections": true,
   "sideBar": true,
   "skip_h1_title": false,
   "title_cell": "Table of Contents",
   "title_sidebar": "Contents",
   "toc_cell": false,
   "toc_position": {},
   "toc_section_display": true,
   "toc_window_display": true
  }
 },
 "nbformat": 4,
 "nbformat_minor": 2
}
